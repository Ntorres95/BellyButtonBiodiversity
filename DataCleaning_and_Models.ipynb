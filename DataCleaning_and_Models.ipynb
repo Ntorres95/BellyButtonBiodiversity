{
  "nbformat": 4,
  "nbformat_minor": 0,
  "metadata": {
    "kernelspec": {
      "display_name": "Python 3",
      "language": "python",
      "name": "python3"
    },
    "language_info": {
      "codemirror_mode": {
        "name": "ipython",
        "version": 3
      },
      "file_extension": ".py",
      "mimetype": "text/x-python",
      "name": "python",
      "nbconvert_exporter": "python",
      "pygments_lexer": "ipython3",
      "version": "3.7.6"
    },
    "colab": {
      "name": "DataCleaning_and_Models.ipynb",
      "provenance": [],
      "collapsed_sections": [],
      "include_colab_link": true
    },
    "accelerator": "GPU"
  },
  "cells": [
    {
      "cell_type": "markdown",
      "metadata": {
        "id": "view-in-github",
        "colab_type": "text"
      },
      "source": [
        "<a href=\"https://colab.research.google.com/github/Ntorres95/BellyButtonBiodiversity/blob/master/DataCleaning_and_Models.ipynb\" target=\"_parent\"><img src=\"https://colab.research.google.com/assets/colab-badge.svg\" alt=\"Open In Colab\"/></a>"
      ]
    },
    {
      "cell_type": "code",
      "metadata": {
        "colab": {
          "base_uri": "https://localhost:8080/"
        },
        "id": "Q1xBiYtPCu7p",
        "outputId": "776fe5a8-abcf-4c69-e199-6b9b30225649"
      },
      "source": [
        "!pip install boto3\n",
        "!pip install fsspec\n",
        "!pip install s3fs"
      ],
      "execution_count": 1,
      "outputs": [
        {
          "output_type": "stream",
          "text": [
            "Collecting boto3\n",
            "\u001b[?25l  Downloading https://files.pythonhosted.org/packages/81/a1/d8b9be4f3996265cb4e42dcd0ba72d61d68062ed6d8ce7e26b37cc399455/boto3-1.16.24-py2.py3-none-any.whl (129kB)\n",
            "\u001b[K     |████████████████████████████████| 133kB 7.0MB/s \n",
            "\u001b[?25hCollecting s3transfer<0.4.0,>=0.3.0\n",
            "\u001b[?25l  Downloading https://files.pythonhosted.org/packages/69/79/e6afb3d8b0b4e96cefbdc690f741d7dd24547ff1f94240c997a26fa908d3/s3transfer-0.3.3-py2.py3-none-any.whl (69kB)\n",
            "\u001b[K     |████████████████████████████████| 71kB 7.5MB/s \n",
            "\u001b[?25hCollecting botocore<1.20.0,>=1.19.24\n",
            "\u001b[?25l  Downloading https://files.pythonhosted.org/packages/08/16/8afd6474045f41bd51002e65862e2066ea2c5de34d0a942e1c4e86098d9a/botocore-1.19.24-py2.py3-none-any.whl (6.9MB)\n",
            "\u001b[K     |████████████████████████████████| 6.9MB 16.1MB/s \n",
            "\u001b[?25hCollecting jmespath<1.0.0,>=0.7.1\n",
            "  Downloading https://files.pythonhosted.org/packages/07/cb/5f001272b6faeb23c1c9e0acc04d48eaaf5c862c17709d20e3469c6e0139/jmespath-0.10.0-py2.py3-none-any.whl\n",
            "Requirement already satisfied: python-dateutil<3.0.0,>=2.1 in /usr/local/lib/python3.6/dist-packages (from botocore<1.20.0,>=1.19.24->boto3) (2.8.1)\n",
            "Collecting urllib3<1.27,>=1.25.4; python_version != \"3.4\"\n",
            "\u001b[?25l  Downloading https://files.pythonhosted.org/packages/f5/71/45d36a8df68f3ebb098d6861b2c017f3d094538c0fb98fa61d4dc43e69b9/urllib3-1.26.2-py2.py3-none-any.whl (136kB)\n",
            "\u001b[K     |████████████████████████████████| 143kB 44.4MB/s \n",
            "\u001b[?25hRequirement already satisfied: six>=1.5 in /usr/local/lib/python3.6/dist-packages (from python-dateutil<3.0.0,>=2.1->botocore<1.20.0,>=1.19.24->boto3) (1.15.0)\n",
            "\u001b[31mERROR: requests 2.23.0 has requirement urllib3!=1.25.0,!=1.25.1,<1.26,>=1.21.1, but you'll have urllib3 1.26.2 which is incompatible.\u001b[0m\n",
            "\u001b[31mERROR: datascience 0.10.6 has requirement folium==0.2.1, but you'll have folium 0.8.3 which is incompatible.\u001b[0m\n",
            "Installing collected packages: urllib3, jmespath, botocore, s3transfer, boto3\n",
            "  Found existing installation: urllib3 1.24.3\n",
            "    Uninstalling urllib3-1.24.3:\n",
            "      Successfully uninstalled urllib3-1.24.3\n",
            "Successfully installed boto3-1.16.24 botocore-1.19.24 jmespath-0.10.0 s3transfer-0.3.3 urllib3-1.26.2\n",
            "Collecting fsspec\n",
            "\u001b[?25l  Downloading https://files.pythonhosted.org/packages/a5/8b/1df260f860f17cb08698170153ef7db672c497c1840dcc8613ce26a8a005/fsspec-0.8.4-py3-none-any.whl (91kB)\n",
            "\u001b[K     |████████████████████████████████| 92kB 4.4MB/s \n",
            "\u001b[?25hInstalling collected packages: fsspec\n",
            "Successfully installed fsspec-0.8.4\n",
            "Collecting s3fs\n",
            "  Downloading https://files.pythonhosted.org/packages/a7/58/732ea1c735d725b1cc4cf365ae6326c22569a5e88c8502d13844e91f08ef/s3fs-0.5.1-py3-none-any.whl\n",
            "Collecting aiobotocore>=1.0.1\n",
            "\u001b[?25l  Downloading https://files.pythonhosted.org/packages/73/25/a81b015035012131056a6b7a339eec052f86f33e35fd91f160e961ea2a5e/aiobotocore-1.1.2-py3-none-any.whl (45kB)\n",
            "\u001b[K     |████████████████████████████████| 51kB 4.5MB/s \n",
            "\u001b[?25hRequirement already satisfied: fsspec>=0.8.0 in /usr/local/lib/python3.6/dist-packages (from s3fs) (0.8.4)\n",
            "Collecting aioitertools>=0.5.1\n",
            "  Downloading https://files.pythonhosted.org/packages/32/0b/3260ac050de07bf6e91871944583bb8598091da19155c34f7ef02244709c/aioitertools-0.7.1-py3-none-any.whl\n",
            "Collecting botocore<1.17.45,>=1.17.44\n",
            "\u001b[?25l  Downloading https://files.pythonhosted.org/packages/1e/6a/b6490235c01c941a24a86235e2a641e9505cf0ce4b4968d4987573d92bec/botocore-1.17.44-py2.py3-none-any.whl (6.5MB)\n",
            "\u001b[K     |████████████████████████████████| 6.5MB 10.2MB/s \n",
            "\u001b[?25hCollecting aiohttp>=3.3.1\n",
            "\u001b[?25l  Downloading https://files.pythonhosted.org/packages/ad/e6/d4b6235d776c9b33f853e603efede5aac5a34f71ca9d3877adb30492eb4e/aiohttp-3.7.3-cp36-cp36m-manylinux2014_x86_64.whl (1.3MB)\n",
            "\u001b[K     |████████████████████████████████| 1.3MB 36.9MB/s \n",
            "\u001b[?25hRequirement already satisfied: wrapt>=1.10.10 in /usr/local/lib/python3.6/dist-packages (from aiobotocore>=1.0.1->s3fs) (1.12.1)\n",
            "Requirement already satisfied: typing_extensions>=3.7 in /usr/local/lib/python3.6/dist-packages (from aioitertools>=0.5.1->aiobotocore>=1.0.1->s3fs) (3.7.4.3)\n",
            "Requirement already satisfied: python-dateutil<3.0.0,>=2.1 in /usr/local/lib/python3.6/dist-packages (from botocore<1.17.45,>=1.17.44->aiobotocore>=1.0.1->s3fs) (2.8.1)\n",
            "Collecting docutils<0.16,>=0.10\n",
            "\u001b[?25l  Downloading https://files.pythonhosted.org/packages/22/cd/a6aa959dca619918ccb55023b4cb151949c64d4d5d55b3f4ffd7eee0c6e8/docutils-0.15.2-py3-none-any.whl (547kB)\n",
            "\u001b[K     |████████████████████████████████| 552kB 50.7MB/s \n",
            "\u001b[?25hCollecting urllib3<1.26,>=1.20; python_version != \"3.4\"\n",
            "\u001b[?25l  Downloading https://files.pythonhosted.org/packages/56/aa/4ef5aa67a9a62505db124a5cb5262332d1d4153462eb8fd89c9fa41e5d92/urllib3-1.25.11-py2.py3-none-any.whl (127kB)\n",
            "\u001b[K     |████████████████████████████████| 133kB 50.7MB/s \n",
            "\u001b[?25hRequirement already satisfied: jmespath<1.0.0,>=0.7.1 in /usr/local/lib/python3.6/dist-packages (from botocore<1.17.45,>=1.17.44->aiobotocore>=1.0.1->s3fs) (0.10.0)\n",
            "Requirement already satisfied: chardet<4.0,>=2.0 in /usr/local/lib/python3.6/dist-packages (from aiohttp>=3.3.1->aiobotocore>=1.0.1->s3fs) (3.0.4)\n",
            "Collecting async-timeout<4.0,>=3.0\n",
            "  Downloading https://files.pythonhosted.org/packages/e1/1e/5a4441be21b0726c4464f3f23c8b19628372f606755a9d2e46c187e65ec4/async_timeout-3.0.1-py3-none-any.whl\n",
            "Collecting multidict<7.0,>=4.5\n",
            "\u001b[?25l  Downloading https://files.pythonhosted.org/packages/a5/95/f89c97db4d27b24fce7c6fb6ef05228f347e43bbf67e4737a0660c8753fd/multidict-5.0.2-cp36-cp36m-manylinux2014_x86_64.whl (141kB)\n",
            "\u001b[K     |████████████████████████████████| 143kB 52.3MB/s \n",
            "\u001b[?25hCollecting yarl<2.0,>=1.0\n",
            "\u001b[?25l  Downloading https://files.pythonhosted.org/packages/da/08/52b26b44bce7b818b410aee37c5e424c9ea420c557bca97dc2adac29b151/yarl-1.6.3-cp36-cp36m-manylinux2014_x86_64.whl (293kB)\n",
            "\u001b[K     |████████████████████████████████| 296kB 51.1MB/s \n",
            "\u001b[?25hRequirement already satisfied: attrs>=17.3.0 in /usr/local/lib/python3.6/dist-packages (from aiohttp>=3.3.1->aiobotocore>=1.0.1->s3fs) (20.3.0)\n",
            "Collecting idna-ssl>=1.0; python_version < \"3.7\"\n",
            "  Downloading https://files.pythonhosted.org/packages/46/03/07c4894aae38b0de52b52586b24bf189bb83e4ddabfe2e2c8f2419eec6f4/idna-ssl-1.1.0.tar.gz\n",
            "Requirement already satisfied: six>=1.5 in /usr/local/lib/python3.6/dist-packages (from python-dateutil<3.0.0,>=2.1->botocore<1.17.45,>=1.17.44->aiobotocore>=1.0.1->s3fs) (1.15.0)\n",
            "Requirement already satisfied: idna>=2.0 in /usr/local/lib/python3.6/dist-packages (from yarl<2.0,>=1.0->aiohttp>=3.3.1->aiobotocore>=1.0.1->s3fs) (2.10)\n",
            "Building wheels for collected packages: idna-ssl\n",
            "  Building wheel for idna-ssl (setup.py) ... \u001b[?25l\u001b[?25hdone\n",
            "  Created wheel for idna-ssl: filename=idna_ssl-1.1.0-cp36-none-any.whl size=3161 sha256=eaf1adf37cd73fa10dd2a5a2ee4c6cdc368c4419379d7b6ebe28497b3a0aa0b4\n",
            "  Stored in directory: /root/.cache/pip/wheels/d3/00/b3/32d613e19e08a739751dd6bf998cfed277728f8b2127ad4eb7\n",
            "Successfully built idna-ssl\n",
            "\u001b[31mERROR: datascience 0.10.6 has requirement folium==0.2.1, but you'll have folium 0.8.3 which is incompatible.\u001b[0m\n",
            "\u001b[31mERROR: boto3 1.16.24 has requirement botocore<1.20.0,>=1.19.24, but you'll have botocore 1.17.44 which is incompatible.\u001b[0m\n",
            "Installing collected packages: aioitertools, docutils, urllib3, botocore, async-timeout, multidict, yarl, idna-ssl, aiohttp, aiobotocore, s3fs\n",
            "  Found existing installation: docutils 0.16\n",
            "    Uninstalling docutils-0.16:\n",
            "      Successfully uninstalled docutils-0.16\n",
            "  Found existing installation: urllib3 1.26.2\n",
            "    Uninstalling urllib3-1.26.2:\n",
            "      Successfully uninstalled urllib3-1.26.2\n",
            "  Found existing installation: botocore 1.19.24\n",
            "    Uninstalling botocore-1.19.24:\n",
            "      Successfully uninstalled botocore-1.19.24\n",
            "Successfully installed aiobotocore-1.1.2 aiohttp-3.7.3 aioitertools-0.7.1 async-timeout-3.0.1 botocore-1.17.44 docutils-0.15.2 idna-ssl-1.1.0 multidict-5.0.2 s3fs-0.5.1 urllib3-1.25.11 yarl-1.6.3\n"
          ],
          "name": "stdout"
        }
      ]
    },
    {
      "cell_type": "code",
      "metadata": {
        "id": "SR8SjTv11ta8"
      },
      "source": [
        "import matplotlib.pyplot as plt\n",
        "from sklearn.neighbors import KNeighborsClassifier\n",
        "import pandas as pd\n",
        "import numpy as np\n",
        "import boto3\n",
        "import botocore\n",
        "import os"
      ],
      "execution_count": 2,
      "outputs": []
    },
    {
      "cell_type": "code",
      "metadata": {
        "id": "0tsFUJpKCD7r"
      },
      "source": [
        "from boto3.session import Session\n",
        "from botocore.client import Config\n",
        "from botocore.handlers import set_list_objects_encoding_type_url"
      ],
      "execution_count": 3,
      "outputs": []
    },
    {
      "cell_type": "code",
      "metadata": {
        "id": "1twmNf27CMxn"
      },
      "source": [
        "weeks_df = pd.read_csv(\"https://mybigbowlbucket.s3-us-west-1.amazonaws.com/weeksNFL.csv\")\n",
        "games_df = pd.read_csv(\"https://mybigbowlbucket.s3-us-west-1.amazonaws.com/games.csv\")\n",
        "players_df = pd.read_csv(\"https://mybigbowlbucket.s3-us-west-1.amazonaws.com/players.csv\")\n",
        "plays_df = pd.read_csv(\"https://mybigbowlbucket.s3-us-west-1.amazonaws.com/plays.csv\")"
      ],
      "execution_count": 4,
      "outputs": []
    },
    {
      "cell_type": "code",
      "metadata": {
        "colab": {
          "base_uri": "https://localhost:8080/"
        },
        "id": "a7nGUNpJLem2",
        "outputId": "9d6e97f8-68c7-417e-b1cc-3c232645bf0c"
      },
      "source": [
        "weeks_df.shape"
      ],
      "execution_count": 5,
      "outputs": [
        {
          "output_type": "execute_result",
          "data": {
            "text/plain": [
              "(18309388, 19)"
            ]
          },
          "metadata": {
            "tags": []
          },
          "execution_count": 5
        }
      ]
    },
    {
      "cell_type": "code",
      "metadata": {
        "id": "unCEUmIZKg8y"
      },
      "source": [
        "weeks_df = weeks_df.dropna()\n",
        "games_df = games_df.dropna()\n",
        "players_df = players_df.dropna()\n",
        "plays_df = plays_df.dropna()"
      ],
      "execution_count": 6,
      "outputs": []
    },
    {
      "cell_type": "code",
      "metadata": {
        "colab": {
          "base_uri": "https://localhost:8080/"
        },
        "id": "Qcg6liZdLhx1",
        "outputId": "756dd321-a9be-4cdf-d8c8-8f6115e910f3"
      },
      "source": [
        "weeks_df.shape"
      ],
      "execution_count": 7,
      "outputs": [
        {
          "output_type": "execute_result",
          "data": {
            "text/plain": [
              "(5117955, 19)"
            ]
          },
          "metadata": {
            "tags": []
          },
          "execution_count": 7
        }
      ]
    },
    {
      "cell_type": "code",
      "metadata": {
        "colab": {
          "base_uri": "https://localhost:8080/",
          "height": 213
        },
        "id": "VPazd-zFDARI",
        "outputId": "0bdd91ce-31a8-4b9c-a746-5d306dbb2eb6"
      },
      "source": [
        "weeks_df.head(3)"
      ],
      "execution_count": 8,
      "outputs": [
        {
          "output_type": "execute_result",
          "data": {
            "text/html": [
              "<div>\n",
              "<style scoped>\n",
              "    .dataframe tbody tr th:only-of-type {\n",
              "        vertical-align: middle;\n",
              "    }\n",
              "\n",
              "    .dataframe tbody tr th {\n",
              "        vertical-align: top;\n",
              "    }\n",
              "\n",
              "    .dataframe thead th {\n",
              "        text-align: right;\n",
              "    }\n",
              "</style>\n",
              "<table border=\"1\" class=\"dataframe\">\n",
              "  <thead>\n",
              "    <tr style=\"text-align: right;\">\n",
              "      <th></th>\n",
              "      <th>time</th>\n",
              "      <th>x</th>\n",
              "      <th>y</th>\n",
              "      <th>s</th>\n",
              "      <th>a</th>\n",
              "      <th>dis</th>\n",
              "      <th>o</th>\n",
              "      <th>dir</th>\n",
              "      <th>event</th>\n",
              "      <th>nflId</th>\n",
              "      <th>displayName</th>\n",
              "      <th>jerseyNumber</th>\n",
              "      <th>position</th>\n",
              "      <th>frameId</th>\n",
              "      <th>team</th>\n",
              "      <th>gameId</th>\n",
              "      <th>playId</th>\n",
              "      <th>playDirection</th>\n",
              "      <th>route</th>\n",
              "    </tr>\n",
              "  </thead>\n",
              "  <tbody>\n",
              "    <tr>\n",
              "      <th>2</th>\n",
              "      <td>2018-09-07T01:07:14.599Z</td>\n",
              "      <td>91.35</td>\n",
              "      <td>44.16</td>\n",
              "      <td>0.02</td>\n",
              "      <td>0.03</td>\n",
              "      <td>0.01</td>\n",
              "      <td>290.45</td>\n",
              "      <td>16.86</td>\n",
              "      <td>None</td>\n",
              "      <td>2495454.0</td>\n",
              "      <td>Julio Jones</td>\n",
              "      <td>11.0</td>\n",
              "      <td>WR</td>\n",
              "      <td>1</td>\n",
              "      <td>away</td>\n",
              "      <td>2018090600</td>\n",
              "      <td>75</td>\n",
              "      <td>left</td>\n",
              "      <td>HITCH</td>\n",
              "    </tr>\n",
              "    <tr>\n",
              "      <th>4</th>\n",
              "      <td>2018-09-07T01:07:14.599Z</td>\n",
              "      <td>90.78</td>\n",
              "      <td>36.15</td>\n",
              "      <td>0.00</td>\n",
              "      <td>0.00</td>\n",
              "      <td>0.00</td>\n",
              "      <td>257.61</td>\n",
              "      <td>193.97</td>\n",
              "      <td>None</td>\n",
              "      <td>2533040.0</td>\n",
              "      <td>Mohamed Sanu</td>\n",
              "      <td>12.0</td>\n",
              "      <td>WR</td>\n",
              "      <td>1</td>\n",
              "      <td>away</td>\n",
              "      <td>2018090600</td>\n",
              "      <td>75</td>\n",
              "      <td>left</td>\n",
              "      <td>HITCH</td>\n",
              "    </tr>\n",
              "    <tr>\n",
              "      <th>10</th>\n",
              "      <td>2018-09-07T01:07:14.599Z</td>\n",
              "      <td>91.29</td>\n",
              "      <td>21.83</td>\n",
              "      <td>0.01</td>\n",
              "      <td>0.02</td>\n",
              "      <td>0.01</td>\n",
              "      <td>250.34</td>\n",
              "      <td>151.83</td>\n",
              "      <td>None</td>\n",
              "      <td>2555415.0</td>\n",
              "      <td>Austin Hooper</td>\n",
              "      <td>81.0</td>\n",
              "      <td>TE</td>\n",
              "      <td>1</td>\n",
              "      <td>away</td>\n",
              "      <td>2018090600</td>\n",
              "      <td>75</td>\n",
              "      <td>left</td>\n",
              "      <td>OUT</td>\n",
              "    </tr>\n",
              "  </tbody>\n",
              "</table>\n",
              "</div>"
            ],
            "text/plain": [
              "                        time      x      y  ...  playId  playDirection  route\n",
              "2   2018-09-07T01:07:14.599Z  91.35  44.16  ...      75           left  HITCH\n",
              "4   2018-09-07T01:07:14.599Z  90.78  36.15  ...      75           left  HITCH\n",
              "10  2018-09-07T01:07:14.599Z  91.29  21.83  ...      75           left    OUT\n",
              "\n",
              "[3 rows x 19 columns]"
            ]
          },
          "metadata": {
            "tags": []
          },
          "execution_count": 8
        }
      ]
    },
    {
      "cell_type": "code",
      "metadata": {
        "colab": {
          "base_uri": "https://localhost:8080/",
          "height": 142
        },
        "id": "L6GS9rsiDPQh",
        "outputId": "60c9d68f-263e-44e3-c5b0-95048e70f26b"
      },
      "source": [
        "games_df.head(3)"
      ],
      "execution_count": 9,
      "outputs": [
        {
          "output_type": "execute_result",
          "data": {
            "text/html": [
              "<div>\n",
              "<style scoped>\n",
              "    .dataframe tbody tr th:only-of-type {\n",
              "        vertical-align: middle;\n",
              "    }\n",
              "\n",
              "    .dataframe tbody tr th {\n",
              "        vertical-align: top;\n",
              "    }\n",
              "\n",
              "    .dataframe thead th {\n",
              "        text-align: right;\n",
              "    }\n",
              "</style>\n",
              "<table border=\"1\" class=\"dataframe\">\n",
              "  <thead>\n",
              "    <tr style=\"text-align: right;\">\n",
              "      <th></th>\n",
              "      <th>gameId</th>\n",
              "      <th>gameDate</th>\n",
              "      <th>gameTimeEastern</th>\n",
              "      <th>homeTeamAbbr</th>\n",
              "      <th>visitorTeamAbbr</th>\n",
              "      <th>week</th>\n",
              "    </tr>\n",
              "  </thead>\n",
              "  <tbody>\n",
              "    <tr>\n",
              "      <th>0</th>\n",
              "      <td>2018090600</td>\n",
              "      <td>09/06/2018</td>\n",
              "      <td>20:20:00</td>\n",
              "      <td>PHI</td>\n",
              "      <td>ATL</td>\n",
              "      <td>1</td>\n",
              "    </tr>\n",
              "    <tr>\n",
              "      <th>1</th>\n",
              "      <td>2018090901</td>\n",
              "      <td>09/09/2018</td>\n",
              "      <td>13:00:00</td>\n",
              "      <td>CLE</td>\n",
              "      <td>PIT</td>\n",
              "      <td>1</td>\n",
              "    </tr>\n",
              "    <tr>\n",
              "      <th>2</th>\n",
              "      <td>2018090902</td>\n",
              "      <td>09/09/2018</td>\n",
              "      <td>13:00:00</td>\n",
              "      <td>IND</td>\n",
              "      <td>CIN</td>\n",
              "      <td>1</td>\n",
              "    </tr>\n",
              "  </tbody>\n",
              "</table>\n",
              "</div>"
            ],
            "text/plain": [
              "       gameId    gameDate gameTimeEastern homeTeamAbbr visitorTeamAbbr  week\n",
              "0  2018090600  09/06/2018        20:20:00          PHI             ATL     1\n",
              "1  2018090901  09/09/2018        13:00:00          CLE             PIT     1\n",
              "2  2018090902  09/09/2018        13:00:00          IND             CIN     1"
            ]
          },
          "metadata": {
            "tags": []
          },
          "execution_count": 9
        }
      ]
    },
    {
      "cell_type": "code",
      "metadata": {
        "colab": {
          "base_uri": "https://localhost:8080/",
          "height": 142
        },
        "id": "21qE6EThDPXz",
        "outputId": "91eada28-186e-4875-a58d-7ed16c1eb914"
      },
      "source": [
        "players_df.head(3)"
      ],
      "execution_count": 10,
      "outputs": [
        {
          "output_type": "execute_result",
          "data": {
            "text/html": [
              "<div>\n",
              "<style scoped>\n",
              "    .dataframe tbody tr th:only-of-type {\n",
              "        vertical-align: middle;\n",
              "    }\n",
              "\n",
              "    .dataframe tbody tr th {\n",
              "        vertical-align: top;\n",
              "    }\n",
              "\n",
              "    .dataframe thead th {\n",
              "        text-align: right;\n",
              "    }\n",
              "</style>\n",
              "<table border=\"1\" class=\"dataframe\">\n",
              "  <thead>\n",
              "    <tr style=\"text-align: right;\">\n",
              "      <th></th>\n",
              "      <th>nflId</th>\n",
              "      <th>height</th>\n",
              "      <th>weight</th>\n",
              "      <th>birthDate</th>\n",
              "      <th>collegeName</th>\n",
              "      <th>position</th>\n",
              "      <th>displayName</th>\n",
              "    </tr>\n",
              "  </thead>\n",
              "  <tbody>\n",
              "    <tr>\n",
              "      <th>0</th>\n",
              "      <td>2539334</td>\n",
              "      <td>72</td>\n",
              "      <td>190</td>\n",
              "      <td>1990-09-10</td>\n",
              "      <td>Washington</td>\n",
              "      <td>CB</td>\n",
              "      <td>Desmond Trufant</td>\n",
              "    </tr>\n",
              "    <tr>\n",
              "      <th>1</th>\n",
              "      <td>2539653</td>\n",
              "      <td>70</td>\n",
              "      <td>186</td>\n",
              "      <td>1988-11-01</td>\n",
              "      <td>Southeastern Louisiana</td>\n",
              "      <td>CB</td>\n",
              "      <td>Robert Alford</td>\n",
              "    </tr>\n",
              "    <tr>\n",
              "      <th>2</th>\n",
              "      <td>2543850</td>\n",
              "      <td>69</td>\n",
              "      <td>186</td>\n",
              "      <td>1991-12-18</td>\n",
              "      <td>Purdue</td>\n",
              "      <td>SS</td>\n",
              "      <td>Ricardo Allen</td>\n",
              "    </tr>\n",
              "  </tbody>\n",
              "</table>\n",
              "</div>"
            ],
            "text/plain": [
              "     nflId height  weight  ...             collegeName position      displayName\n",
              "0  2539334     72     190  ...              Washington       CB  Desmond Trufant\n",
              "1  2539653     70     186  ...  Southeastern Louisiana       CB    Robert Alford\n",
              "2  2543850     69     186  ...                  Purdue       SS    Ricardo Allen\n",
              "\n",
              "[3 rows x 7 columns]"
            ]
          },
          "metadata": {
            "tags": []
          },
          "execution_count": 10
        }
      ]
    },
    {
      "cell_type": "code",
      "metadata": {
        "colab": {
          "base_uri": "https://localhost:8080/",
          "height": 264
        },
        "id": "k-xuqgC7DTOr",
        "outputId": "2c9bddff-ef7d-4dab-f3c3-5ea62040f434"
      },
      "source": [
        "plays_df.head(3)"
      ],
      "execution_count": 11,
      "outputs": [
        {
          "output_type": "execute_result",
          "data": {
            "text/html": [
              "<div>\n",
              "<style scoped>\n",
              "    .dataframe tbody tr th:only-of-type {\n",
              "        vertical-align: middle;\n",
              "    }\n",
              "\n",
              "    .dataframe tbody tr th {\n",
              "        vertical-align: top;\n",
              "    }\n",
              "\n",
              "    .dataframe thead th {\n",
              "        text-align: right;\n",
              "    }\n",
              "</style>\n",
              "<table border=\"1\" class=\"dataframe\">\n",
              "  <thead>\n",
              "    <tr style=\"text-align: right;\">\n",
              "      <th></th>\n",
              "      <th>gameId</th>\n",
              "      <th>playId</th>\n",
              "      <th>playDescription</th>\n",
              "      <th>quarter</th>\n",
              "      <th>down</th>\n",
              "      <th>yardsToGo</th>\n",
              "      <th>possessionTeam</th>\n",
              "      <th>playType</th>\n",
              "      <th>yardlineSide</th>\n",
              "      <th>yardlineNumber</th>\n",
              "      <th>offenseFormation</th>\n",
              "      <th>personnelO</th>\n",
              "      <th>defendersInTheBox</th>\n",
              "      <th>numberOfPassRushers</th>\n",
              "      <th>personnelD</th>\n",
              "      <th>typeDropback</th>\n",
              "      <th>preSnapVisitorScore</th>\n",
              "      <th>preSnapHomeScore</th>\n",
              "      <th>gameClock</th>\n",
              "      <th>absoluteYardlineNumber</th>\n",
              "      <th>penaltyCodes</th>\n",
              "      <th>penaltyJerseyNumbers</th>\n",
              "      <th>passResult</th>\n",
              "      <th>offensePlayResult</th>\n",
              "      <th>playResult</th>\n",
              "      <th>epa</th>\n",
              "      <th>isDefensivePI</th>\n",
              "    </tr>\n",
              "  </thead>\n",
              "  <tbody>\n",
              "    <tr>\n",
              "      <th>29</th>\n",
              "      <td>2018090600</td>\n",
              "      <td>1680</td>\n",
              "      <td>(1:57) (Shotgun) N.Foles pass short right to N...</td>\n",
              "      <td>2</td>\n",
              "      <td>2</td>\n",
              "      <td>10</td>\n",
              "      <td>PHI</td>\n",
              "      <td>play_type_pass</td>\n",
              "      <td>PHI</td>\n",
              "      <td>5</td>\n",
              "      <td>SHOTGUN</td>\n",
              "      <td>1 RB, 1 TE, 3 WR</td>\n",
              "      <td>6.0</td>\n",
              "      <td>4.0</td>\n",
              "      <td>3 DL, 3 LB, 5 DB</td>\n",
              "      <td>TRADITIONAL</td>\n",
              "      <td>6.0</td>\n",
              "      <td>3.0</td>\n",
              "      <td>01:57:00</td>\n",
              "      <td>105.0</td>\n",
              "      <td>RPS</td>\n",
              "      <td>ATL 97</td>\n",
              "      <td>C</td>\n",
              "      <td>4</td>\n",
              "      <td>19</td>\n",
              "      <td>1.299050</td>\n",
              "      <td>False</td>\n",
              "    </tr>\n",
              "    <tr>\n",
              "      <th>45</th>\n",
              "      <td>2018090600</td>\n",
              "      <td>2503</td>\n",
              "      <td>(11:04) (Shotgun) M.Ryan pass incomplete short...</td>\n",
              "      <td>3</td>\n",
              "      <td>2</td>\n",
              "      <td>10</td>\n",
              "      <td>ATL</td>\n",
              "      <td>play_type_pass</td>\n",
              "      <td>ATL</td>\n",
              "      <td>32</td>\n",
              "      <td>EMPTY</td>\n",
              "      <td>1 RB, 1 TE, 3 WR</td>\n",
              "      <td>5.0</td>\n",
              "      <td>4.0</td>\n",
              "      <td>4 DL, 1 LB, 6 DB</td>\n",
              "      <td>TRADITIONAL</td>\n",
              "      <td>6.0</td>\n",
              "      <td>3.0</td>\n",
              "      <td>11:04:00</td>\n",
              "      <td>42.0</td>\n",
              "      <td>ING</td>\n",
              "      <td>ATL 2</td>\n",
              "      <td>I</td>\n",
              "      <td>0</td>\n",
              "      <td>-12</td>\n",
              "      <td>-1.868122</td>\n",
              "      <td>False</td>\n",
              "    </tr>\n",
              "    <tr>\n",
              "      <th>91</th>\n",
              "      <td>2018090901</td>\n",
              "      <td>439</td>\n",
              "      <td>(8:05) (Shotgun) B.Roethlisberger pass short r...</td>\n",
              "      <td>1</td>\n",
              "      <td>3</td>\n",
              "      <td>9</td>\n",
              "      <td>PIT</td>\n",
              "      <td>play_type_pass</td>\n",
              "      <td>PIT</td>\n",
              "      <td>43</td>\n",
              "      <td>EMPTY</td>\n",
              "      <td>1 RB, 1 TE, 3 WR</td>\n",
              "      <td>6.0</td>\n",
              "      <td>4.0</td>\n",
              "      <td>2 DL, 4 LB, 5 DB</td>\n",
              "      <td>TRADITIONAL</td>\n",
              "      <td>0.0</td>\n",
              "      <td>0.0</td>\n",
              "      <td>08:05:00</td>\n",
              "      <td>53.0</td>\n",
              "      <td>IBW</td>\n",
              "      <td>PIT 11</td>\n",
              "      <td>C</td>\n",
              "      <td>0</td>\n",
              "      <td>0</td>\n",
              "      <td>-1.770704</td>\n",
              "      <td>False</td>\n",
              "    </tr>\n",
              "  </tbody>\n",
              "</table>\n",
              "</div>"
            ],
            "text/plain": [
              "        gameId  playId  ...       epa  isDefensivePI\n",
              "29  2018090600    1680  ...  1.299050          False\n",
              "45  2018090600    2503  ... -1.868122          False\n",
              "91  2018090901     439  ... -1.770704          False\n",
              "\n",
              "[3 rows x 27 columns]"
            ]
          },
          "metadata": {
            "tags": []
          },
          "execution_count": 11
        }
      ]
    },
    {
      "cell_type": "code",
      "metadata": {
        "id": "r_LKu1t9GCM-",
        "colab": {
          "base_uri": "https://localhost:8080/",
          "height": 394
        },
        "outputId": "a7da581b-ad4b-4bef-c0c6-054a2f5c0898"
      },
      "source": [
        "df = weeks_df.merge(plays_df, how='right', on='playId')\n",
        "df.head()"
      ],
      "execution_count": 12,
      "outputs": [
        {
          "output_type": "execute_result",
          "data": {
            "text/html": [
              "<div>\n",
              "<style scoped>\n",
              "    .dataframe tbody tr th:only-of-type {\n",
              "        vertical-align: middle;\n",
              "    }\n",
              "\n",
              "    .dataframe tbody tr th {\n",
              "        vertical-align: top;\n",
              "    }\n",
              "\n",
              "    .dataframe thead th {\n",
              "        text-align: right;\n",
              "    }\n",
              "</style>\n",
              "<table border=\"1\" class=\"dataframe\">\n",
              "  <thead>\n",
              "    <tr style=\"text-align: right;\">\n",
              "      <th></th>\n",
              "      <th>time</th>\n",
              "      <th>x</th>\n",
              "      <th>y</th>\n",
              "      <th>s</th>\n",
              "      <th>a</th>\n",
              "      <th>dis</th>\n",
              "      <th>o</th>\n",
              "      <th>dir</th>\n",
              "      <th>event</th>\n",
              "      <th>nflId</th>\n",
              "      <th>displayName</th>\n",
              "      <th>jerseyNumber</th>\n",
              "      <th>position</th>\n",
              "      <th>frameId</th>\n",
              "      <th>team</th>\n",
              "      <th>gameId_x</th>\n",
              "      <th>playId</th>\n",
              "      <th>playDirection</th>\n",
              "      <th>route</th>\n",
              "      <th>gameId_y</th>\n",
              "      <th>playDescription</th>\n",
              "      <th>quarter</th>\n",
              "      <th>down</th>\n",
              "      <th>yardsToGo</th>\n",
              "      <th>possessionTeam</th>\n",
              "      <th>playType</th>\n",
              "      <th>yardlineSide</th>\n",
              "      <th>yardlineNumber</th>\n",
              "      <th>offenseFormation</th>\n",
              "      <th>personnelO</th>\n",
              "      <th>defendersInTheBox</th>\n",
              "      <th>numberOfPassRushers</th>\n",
              "      <th>personnelD</th>\n",
              "      <th>typeDropback</th>\n",
              "      <th>preSnapVisitorScore</th>\n",
              "      <th>preSnapHomeScore</th>\n",
              "      <th>gameClock</th>\n",
              "      <th>absoluteYardlineNumber</th>\n",
              "      <th>penaltyCodes</th>\n",
              "      <th>penaltyJerseyNumbers</th>\n",
              "      <th>passResult</th>\n",
              "      <th>offensePlayResult</th>\n",
              "      <th>playResult</th>\n",
              "      <th>epa</th>\n",
              "      <th>isDefensivePI</th>\n",
              "    </tr>\n",
              "  </thead>\n",
              "  <tbody>\n",
              "    <tr>\n",
              "      <th>0</th>\n",
              "      <td>2018-09-07T02:17:33.400Z</td>\n",
              "      <td>110.35</td>\n",
              "      <td>32.48</td>\n",
              "      <td>0.00</td>\n",
              "      <td>0.00</td>\n",
              "      <td>0.00</td>\n",
              "      <td>44.48</td>\n",
              "      <td>307.08</td>\n",
              "      <td>None</td>\n",
              "      <td>2506467.0</td>\n",
              "      <td>Darren Sproles</td>\n",
              "      <td>43.0</td>\n",
              "      <td>RB</td>\n",
              "      <td>1.0</td>\n",
              "      <td>home</td>\n",
              "      <td>2.018091e+09</td>\n",
              "      <td>1680</td>\n",
              "      <td>left</td>\n",
              "      <td>WHEEL</td>\n",
              "      <td>2018090600</td>\n",
              "      <td>(1:57) (Shotgun) N.Foles pass short right to N...</td>\n",
              "      <td>2</td>\n",
              "      <td>2</td>\n",
              "      <td>10</td>\n",
              "      <td>PHI</td>\n",
              "      <td>play_type_pass</td>\n",
              "      <td>PHI</td>\n",
              "      <td>5</td>\n",
              "      <td>SHOTGUN</td>\n",
              "      <td>1 RB, 1 TE, 3 WR</td>\n",
              "      <td>6.0</td>\n",
              "      <td>4.0</td>\n",
              "      <td>3 DL, 3 LB, 5 DB</td>\n",
              "      <td>TRADITIONAL</td>\n",
              "      <td>6.0</td>\n",
              "      <td>3.0</td>\n",
              "      <td>01:57:00</td>\n",
              "      <td>105.0</td>\n",
              "      <td>RPS</td>\n",
              "      <td>ATL 97</td>\n",
              "      <td>C</td>\n",
              "      <td>4</td>\n",
              "      <td>19</td>\n",
              "      <td>1.29905</td>\n",
              "      <td>False</td>\n",
              "    </tr>\n",
              "    <tr>\n",
              "      <th>1</th>\n",
              "      <td>2018-09-07T02:17:33.400Z</td>\n",
              "      <td>106.49</td>\n",
              "      <td>42.95</td>\n",
              "      <td>0.00</td>\n",
              "      <td>0.00</td>\n",
              "      <td>0.00</td>\n",
              "      <td>247.94</td>\n",
              "      <td>189.89</td>\n",
              "      <td>None</td>\n",
              "      <td>2507763.0</td>\n",
              "      <td>Mike Wallace</td>\n",
              "      <td>14.0</td>\n",
              "      <td>WR</td>\n",
              "      <td>1.0</td>\n",
              "      <td>home</td>\n",
              "      <td>2.018091e+09</td>\n",
              "      <td>1680</td>\n",
              "      <td>left</td>\n",
              "      <td>POST</td>\n",
              "      <td>2018090600</td>\n",
              "      <td>(1:57) (Shotgun) N.Foles pass short right to N...</td>\n",
              "      <td>2</td>\n",
              "      <td>2</td>\n",
              "      <td>10</td>\n",
              "      <td>PHI</td>\n",
              "      <td>play_type_pass</td>\n",
              "      <td>PHI</td>\n",
              "      <td>5</td>\n",
              "      <td>SHOTGUN</td>\n",
              "      <td>1 RB, 1 TE, 3 WR</td>\n",
              "      <td>6.0</td>\n",
              "      <td>4.0</td>\n",
              "      <td>3 DL, 3 LB, 5 DB</td>\n",
              "      <td>TRADITIONAL</td>\n",
              "      <td>6.0</td>\n",
              "      <td>3.0</td>\n",
              "      <td>01:57:00</td>\n",
              "      <td>105.0</td>\n",
              "      <td>RPS</td>\n",
              "      <td>ATL 97</td>\n",
              "      <td>C</td>\n",
              "      <td>4</td>\n",
              "      <td>19</td>\n",
              "      <td>1.29905</td>\n",
              "      <td>False</td>\n",
              "    </tr>\n",
              "    <tr>\n",
              "      <th>2</th>\n",
              "      <td>2018-09-07T02:17:33.400Z</td>\n",
              "      <td>105.99</td>\n",
              "      <td>22.35</td>\n",
              "      <td>0.00</td>\n",
              "      <td>0.00</td>\n",
              "      <td>0.00</td>\n",
              "      <td>255.39</td>\n",
              "      <td>246.65</td>\n",
              "      <td>None</td>\n",
              "      <td>2540158.0</td>\n",
              "      <td>Zach Ertz</td>\n",
              "      <td>86.0</td>\n",
              "      <td>TE</td>\n",
              "      <td>1.0</td>\n",
              "      <td>home</td>\n",
              "      <td>2.018091e+09</td>\n",
              "      <td>1680</td>\n",
              "      <td>left</td>\n",
              "      <td>POST</td>\n",
              "      <td>2018090600</td>\n",
              "      <td>(1:57) (Shotgun) N.Foles pass short right to N...</td>\n",
              "      <td>2</td>\n",
              "      <td>2</td>\n",
              "      <td>10</td>\n",
              "      <td>PHI</td>\n",
              "      <td>play_type_pass</td>\n",
              "      <td>PHI</td>\n",
              "      <td>5</td>\n",
              "      <td>SHOTGUN</td>\n",
              "      <td>1 RB, 1 TE, 3 WR</td>\n",
              "      <td>6.0</td>\n",
              "      <td>4.0</td>\n",
              "      <td>3 DL, 3 LB, 5 DB</td>\n",
              "      <td>TRADITIONAL</td>\n",
              "      <td>6.0</td>\n",
              "      <td>3.0</td>\n",
              "      <td>01:57:00</td>\n",
              "      <td>105.0</td>\n",
              "      <td>RPS</td>\n",
              "      <td>ATL 97</td>\n",
              "      <td>C</td>\n",
              "      <td>4</td>\n",
              "      <td>19</td>\n",
              "      <td>1.29905</td>\n",
              "      <td>False</td>\n",
              "    </tr>\n",
              "    <tr>\n",
              "      <th>3</th>\n",
              "      <td>2018-09-07T02:17:33.400Z</td>\n",
              "      <td>107.67</td>\n",
              "      <td>16.05</td>\n",
              "      <td>5.83</td>\n",
              "      <td>2.36</td>\n",
              "      <td>0.59</td>\n",
              "      <td>327.16</td>\n",
              "      <td>2.02</td>\n",
              "      <td>None</td>\n",
              "      <td>2552600.0</td>\n",
              "      <td>Nelson Agholor</td>\n",
              "      <td>13.0</td>\n",
              "      <td>WR</td>\n",
              "      <td>1.0</td>\n",
              "      <td>home</td>\n",
              "      <td>2.018091e+09</td>\n",
              "      <td>1680</td>\n",
              "      <td>left</td>\n",
              "      <td>CROSS</td>\n",
              "      <td>2018090600</td>\n",
              "      <td>(1:57) (Shotgun) N.Foles pass short right to N...</td>\n",
              "      <td>2</td>\n",
              "      <td>2</td>\n",
              "      <td>10</td>\n",
              "      <td>PHI</td>\n",
              "      <td>play_type_pass</td>\n",
              "      <td>PHI</td>\n",
              "      <td>5</td>\n",
              "      <td>SHOTGUN</td>\n",
              "      <td>1 RB, 1 TE, 3 WR</td>\n",
              "      <td>6.0</td>\n",
              "      <td>4.0</td>\n",
              "      <td>3 DL, 3 LB, 5 DB</td>\n",
              "      <td>TRADITIONAL</td>\n",
              "      <td>6.0</td>\n",
              "      <td>3.0</td>\n",
              "      <td>01:57:00</td>\n",
              "      <td>105.0</td>\n",
              "      <td>RPS</td>\n",
              "      <td>ATL 97</td>\n",
              "      <td>C</td>\n",
              "      <td>4</td>\n",
              "      <td>19</td>\n",
              "      <td>1.29905</td>\n",
              "      <td>False</td>\n",
              "    </tr>\n",
              "    <tr>\n",
              "      <th>4</th>\n",
              "      <td>2018-09-07T02:17:33.400Z</td>\n",
              "      <td>106.75</td>\n",
              "      <td>15.20</td>\n",
              "      <td>0.00</td>\n",
              "      <td>0.00</td>\n",
              "      <td>0.00</td>\n",
              "      <td>253.47</td>\n",
              "      <td>288.27</td>\n",
              "      <td>None</td>\n",
              "      <td>2553502.0</td>\n",
              "      <td>DeAndre Carter</td>\n",
              "      <td>16.0</td>\n",
              "      <td>WR</td>\n",
              "      <td>1.0</td>\n",
              "      <td>home</td>\n",
              "      <td>2.018091e+09</td>\n",
              "      <td>1680</td>\n",
              "      <td>left</td>\n",
              "      <td>POST</td>\n",
              "      <td>2018090600</td>\n",
              "      <td>(1:57) (Shotgun) N.Foles pass short right to N...</td>\n",
              "      <td>2</td>\n",
              "      <td>2</td>\n",
              "      <td>10</td>\n",
              "      <td>PHI</td>\n",
              "      <td>play_type_pass</td>\n",
              "      <td>PHI</td>\n",
              "      <td>5</td>\n",
              "      <td>SHOTGUN</td>\n",
              "      <td>1 RB, 1 TE, 3 WR</td>\n",
              "      <td>6.0</td>\n",
              "      <td>4.0</td>\n",
              "      <td>3 DL, 3 LB, 5 DB</td>\n",
              "      <td>TRADITIONAL</td>\n",
              "      <td>6.0</td>\n",
              "      <td>3.0</td>\n",
              "      <td>01:57:00</td>\n",
              "      <td>105.0</td>\n",
              "      <td>RPS</td>\n",
              "      <td>ATL 97</td>\n",
              "      <td>C</td>\n",
              "      <td>4</td>\n",
              "      <td>19</td>\n",
              "      <td>1.29905</td>\n",
              "      <td>False</td>\n",
              "    </tr>\n",
              "  </tbody>\n",
              "</table>\n",
              "</div>"
            ],
            "text/plain": [
              "                       time       x      y  ...  playResult      epa  isDefensivePI\n",
              "0  2018-09-07T02:17:33.400Z  110.35  32.48  ...          19  1.29905          False\n",
              "1  2018-09-07T02:17:33.400Z  106.49  42.95  ...          19  1.29905          False\n",
              "2  2018-09-07T02:17:33.400Z  105.99  22.35  ...          19  1.29905          False\n",
              "3  2018-09-07T02:17:33.400Z  107.67  16.05  ...          19  1.29905          False\n",
              "4  2018-09-07T02:17:33.400Z  106.75  15.20  ...          19  1.29905          False\n",
              "\n",
              "[5 rows x 45 columns]"
            ]
          },
          "metadata": {
            "tags": []
          },
          "execution_count": 12
        }
      ]
    },
    {
      "cell_type": "code",
      "metadata": {
        "id": "P43tUB5C1ta-"
      },
      "source": [
        "df = df.drop(columns=['time', 'x', 'y', 's', 'a', 'o', 'dir', 'event', 'nflId', 'displayName', 'jerseyNumber', 'frameId', 'gameId_x', 'gameId_y', 'playDescription','possessionTeam', 'playType', 'yardlineSide', 'gameClock', 'penaltyCodes', 'penaltyJerseyNumbers','typeDropback'])"
      ],
      "execution_count": 13,
      "outputs": []
    },
    {
      "cell_type": "code",
      "metadata": {
        "id": "OghGX19b1ta-",
        "colab": {
          "base_uri": "https://localhost:8080/",
          "height": 304
        },
        "outputId": "e9aa09b0-37a4-447b-d865-f1a4e222ce7d"
      },
      "source": [
        "# Drop the null columns where all values are null\n",
        "df = df.dropna(axis='columns', how='all')\n",
        "\n",
        "df = pd.get_dummies(df)\n",
        "\n",
        "df.head()"
      ],
      "execution_count": 14,
      "outputs": [
        {
          "output_type": "execute_result",
          "data": {
            "text/html": [
              "<div>\n",
              "<style scoped>\n",
              "    .dataframe tbody tr th:only-of-type {\n",
              "        vertical-align: middle;\n",
              "    }\n",
              "\n",
              "    .dataframe tbody tr th {\n",
              "        vertical-align: top;\n",
              "    }\n",
              "\n",
              "    .dataframe thead th {\n",
              "        text-align: right;\n",
              "    }\n",
              "</style>\n",
              "<table border=\"1\" class=\"dataframe\">\n",
              "  <thead>\n",
              "    <tr style=\"text-align: right;\">\n",
              "      <th></th>\n",
              "      <th>dis</th>\n",
              "      <th>playId</th>\n",
              "      <th>quarter</th>\n",
              "      <th>down</th>\n",
              "      <th>yardsToGo</th>\n",
              "      <th>yardlineNumber</th>\n",
              "      <th>defendersInTheBox</th>\n",
              "      <th>numberOfPassRushers</th>\n",
              "      <th>preSnapVisitorScore</th>\n",
              "      <th>preSnapHomeScore</th>\n",
              "      <th>absoluteYardlineNumber</th>\n",
              "      <th>offensePlayResult</th>\n",
              "      <th>playResult</th>\n",
              "      <th>epa</th>\n",
              "      <th>isDefensivePI</th>\n",
              "      <th>position_FB</th>\n",
              "      <th>position_HB</th>\n",
              "      <th>position_QB</th>\n",
              "      <th>position_RB</th>\n",
              "      <th>position_TE</th>\n",
              "      <th>position_WR</th>\n",
              "      <th>team_away</th>\n",
              "      <th>team_home</th>\n",
              "      <th>playDirection_left</th>\n",
              "      <th>playDirection_right</th>\n",
              "      <th>route_ANGLE</th>\n",
              "      <th>route_CORNER</th>\n",
              "      <th>route_CROSS</th>\n",
              "      <th>route_FLAT</th>\n",
              "      <th>route_GO</th>\n",
              "      <th>route_HITCH</th>\n",
              "      <th>route_IN</th>\n",
              "      <th>route_OUT</th>\n",
              "      <th>route_POST</th>\n",
              "      <th>route_SCREEN</th>\n",
              "      <th>route_SLANT</th>\n",
              "      <th>route_WHEEL</th>\n",
              "      <th>route_undefined</th>\n",
              "      <th>offenseFormation_EMPTY</th>\n",
              "      <th>offenseFormation_I_FORM</th>\n",
              "      <th>...</th>\n",
              "      <th>offenseFormation_WILDCAT</th>\n",
              "      <th>personnelO_0 RB, 0 TE, 5 WR</th>\n",
              "      <th>personnelO_0 RB, 1 TE, 4 WR</th>\n",
              "      <th>personnelO_1 RB, 0 TE, 4 WR</th>\n",
              "      <th>personnelO_1 RB, 1 TE, 3 WR</th>\n",
              "      <th>personnelO_1 RB, 2 TE, 2 WR</th>\n",
              "      <th>personnelO_1 RB, 3 TE, 1 WR</th>\n",
              "      <th>personnelO_2 QB, 1 RB, 1 TE, 2 WR</th>\n",
              "      <th>personnelO_2 RB, 0 TE, 3 WR</th>\n",
              "      <th>personnelO_2 RB, 1 TE, 2 WR</th>\n",
              "      <th>personnelO_2 RB, 2 TE, 1 WR</th>\n",
              "      <th>personnelO_3 RB, 1 TE, 1 WR</th>\n",
              "      <th>personnelO_6 OL, 1 RB, 1 TE, 2 WR</th>\n",
              "      <th>personnelO_6 OL, 1 RB, 2 TE, 1 WR</th>\n",
              "      <th>personnelO_6 OL, 2 RB, 1 TE, 0 WR,1 DL</th>\n",
              "      <th>personnelO_6 OL, 2 RB, 2 TE, 0 WR</th>\n",
              "      <th>personnelD_0 DL, 4 LB, 7 DB</th>\n",
              "      <th>personnelD_0 DL, 5 LB, 6 DB</th>\n",
              "      <th>personnelD_0 DL, 6 LB, 5 DB</th>\n",
              "      <th>personnelD_1 DL, 3 LB, 7 DB</th>\n",
              "      <th>personnelD_1 DL, 4 LB, 6 DB</th>\n",
              "      <th>personnelD_1 DL, 5 LB, 5 DB</th>\n",
              "      <th>personnelD_2 DL, 2 LB, 7 DB</th>\n",
              "      <th>personnelD_2 DL, 3 LB, 6 DB</th>\n",
              "      <th>personnelD_2 DL, 4 LB, 5 DB</th>\n",
              "      <th>personnelD_3 DL, 1 LB, 7 DB</th>\n",
              "      <th>personnelD_3 DL, 2 LB, 6 DB</th>\n",
              "      <th>personnelD_3 DL, 3 LB, 5 DB</th>\n",
              "      <th>personnelD_3 DL, 4 LB, 4 DB</th>\n",
              "      <th>personnelD_3 DL, 5 LB, 3 DB</th>\n",
              "      <th>personnelD_4 DL, 1 LB, 6 DB</th>\n",
              "      <th>personnelD_4 DL, 2 LB, 5 DB</th>\n",
              "      <th>personnelD_4 DL, 3 LB, 4 DB</th>\n",
              "      <th>personnelD_4 DL, 4 LB, 3 DB</th>\n",
              "      <th>personnelD_4 DL, 5 LB, 2 DB</th>\n",
              "      <th>personnelD_5 DL, 2 LB, 4 DB</th>\n",
              "      <th>passResult_C</th>\n",
              "      <th>passResult_I</th>\n",
              "      <th>passResult_IN</th>\n",
              "      <th>passResult_S</th>\n",
              "    </tr>\n",
              "  </thead>\n",
              "  <tbody>\n",
              "    <tr>\n",
              "      <th>0</th>\n",
              "      <td>0.00</td>\n",
              "      <td>1680</td>\n",
              "      <td>2</td>\n",
              "      <td>2</td>\n",
              "      <td>10</td>\n",
              "      <td>5</td>\n",
              "      <td>6.0</td>\n",
              "      <td>4.0</td>\n",
              "      <td>6.0</td>\n",
              "      <td>3.0</td>\n",
              "      <td>105.0</td>\n",
              "      <td>4</td>\n",
              "      <td>19</td>\n",
              "      <td>1.29905</td>\n",
              "      <td>False</td>\n",
              "      <td>0</td>\n",
              "      <td>0</td>\n",
              "      <td>0</td>\n",
              "      <td>1</td>\n",
              "      <td>0</td>\n",
              "      <td>0</td>\n",
              "      <td>0</td>\n",
              "      <td>1</td>\n",
              "      <td>1</td>\n",
              "      <td>0</td>\n",
              "      <td>0</td>\n",
              "      <td>0</td>\n",
              "      <td>0</td>\n",
              "      <td>0</td>\n",
              "      <td>0</td>\n",
              "      <td>0</td>\n",
              "      <td>0</td>\n",
              "      <td>0</td>\n",
              "      <td>0</td>\n",
              "      <td>0</td>\n",
              "      <td>0</td>\n",
              "      <td>1</td>\n",
              "      <td>0</td>\n",
              "      <td>0</td>\n",
              "      <td>0</td>\n",
              "      <td>...</td>\n",
              "      <td>0</td>\n",
              "      <td>0</td>\n",
              "      <td>0</td>\n",
              "      <td>0</td>\n",
              "      <td>1</td>\n",
              "      <td>0</td>\n",
              "      <td>0</td>\n",
              "      <td>0</td>\n",
              "      <td>0</td>\n",
              "      <td>0</td>\n",
              "      <td>0</td>\n",
              "      <td>0</td>\n",
              "      <td>0</td>\n",
              "      <td>0</td>\n",
              "      <td>0</td>\n",
              "      <td>0</td>\n",
              "      <td>0</td>\n",
              "      <td>0</td>\n",
              "      <td>0</td>\n",
              "      <td>0</td>\n",
              "      <td>0</td>\n",
              "      <td>0</td>\n",
              "      <td>0</td>\n",
              "      <td>0</td>\n",
              "      <td>0</td>\n",
              "      <td>0</td>\n",
              "      <td>0</td>\n",
              "      <td>1</td>\n",
              "      <td>0</td>\n",
              "      <td>0</td>\n",
              "      <td>0</td>\n",
              "      <td>0</td>\n",
              "      <td>0</td>\n",
              "      <td>0</td>\n",
              "      <td>0</td>\n",
              "      <td>0</td>\n",
              "      <td>1</td>\n",
              "      <td>0</td>\n",
              "      <td>0</td>\n",
              "      <td>0</td>\n",
              "    </tr>\n",
              "    <tr>\n",
              "      <th>1</th>\n",
              "      <td>0.00</td>\n",
              "      <td>1680</td>\n",
              "      <td>2</td>\n",
              "      <td>2</td>\n",
              "      <td>10</td>\n",
              "      <td>5</td>\n",
              "      <td>6.0</td>\n",
              "      <td>4.0</td>\n",
              "      <td>6.0</td>\n",
              "      <td>3.0</td>\n",
              "      <td>105.0</td>\n",
              "      <td>4</td>\n",
              "      <td>19</td>\n",
              "      <td>1.29905</td>\n",
              "      <td>False</td>\n",
              "      <td>0</td>\n",
              "      <td>0</td>\n",
              "      <td>0</td>\n",
              "      <td>0</td>\n",
              "      <td>0</td>\n",
              "      <td>1</td>\n",
              "      <td>0</td>\n",
              "      <td>1</td>\n",
              "      <td>1</td>\n",
              "      <td>0</td>\n",
              "      <td>0</td>\n",
              "      <td>0</td>\n",
              "      <td>0</td>\n",
              "      <td>0</td>\n",
              "      <td>0</td>\n",
              "      <td>0</td>\n",
              "      <td>0</td>\n",
              "      <td>0</td>\n",
              "      <td>1</td>\n",
              "      <td>0</td>\n",
              "      <td>0</td>\n",
              "      <td>0</td>\n",
              "      <td>0</td>\n",
              "      <td>0</td>\n",
              "      <td>0</td>\n",
              "      <td>...</td>\n",
              "      <td>0</td>\n",
              "      <td>0</td>\n",
              "      <td>0</td>\n",
              "      <td>0</td>\n",
              "      <td>1</td>\n",
              "      <td>0</td>\n",
              "      <td>0</td>\n",
              "      <td>0</td>\n",
              "      <td>0</td>\n",
              "      <td>0</td>\n",
              "      <td>0</td>\n",
              "      <td>0</td>\n",
              "      <td>0</td>\n",
              "      <td>0</td>\n",
              "      <td>0</td>\n",
              "      <td>0</td>\n",
              "      <td>0</td>\n",
              "      <td>0</td>\n",
              "      <td>0</td>\n",
              "      <td>0</td>\n",
              "      <td>0</td>\n",
              "      <td>0</td>\n",
              "      <td>0</td>\n",
              "      <td>0</td>\n",
              "      <td>0</td>\n",
              "      <td>0</td>\n",
              "      <td>0</td>\n",
              "      <td>1</td>\n",
              "      <td>0</td>\n",
              "      <td>0</td>\n",
              "      <td>0</td>\n",
              "      <td>0</td>\n",
              "      <td>0</td>\n",
              "      <td>0</td>\n",
              "      <td>0</td>\n",
              "      <td>0</td>\n",
              "      <td>1</td>\n",
              "      <td>0</td>\n",
              "      <td>0</td>\n",
              "      <td>0</td>\n",
              "    </tr>\n",
              "    <tr>\n",
              "      <th>2</th>\n",
              "      <td>0.00</td>\n",
              "      <td>1680</td>\n",
              "      <td>2</td>\n",
              "      <td>2</td>\n",
              "      <td>10</td>\n",
              "      <td>5</td>\n",
              "      <td>6.0</td>\n",
              "      <td>4.0</td>\n",
              "      <td>6.0</td>\n",
              "      <td>3.0</td>\n",
              "      <td>105.0</td>\n",
              "      <td>4</td>\n",
              "      <td>19</td>\n",
              "      <td>1.29905</td>\n",
              "      <td>False</td>\n",
              "      <td>0</td>\n",
              "      <td>0</td>\n",
              "      <td>0</td>\n",
              "      <td>0</td>\n",
              "      <td>1</td>\n",
              "      <td>0</td>\n",
              "      <td>0</td>\n",
              "      <td>1</td>\n",
              "      <td>1</td>\n",
              "      <td>0</td>\n",
              "      <td>0</td>\n",
              "      <td>0</td>\n",
              "      <td>0</td>\n",
              "      <td>0</td>\n",
              "      <td>0</td>\n",
              "      <td>0</td>\n",
              "      <td>0</td>\n",
              "      <td>0</td>\n",
              "      <td>1</td>\n",
              "      <td>0</td>\n",
              "      <td>0</td>\n",
              "      <td>0</td>\n",
              "      <td>0</td>\n",
              "      <td>0</td>\n",
              "      <td>0</td>\n",
              "      <td>...</td>\n",
              "      <td>0</td>\n",
              "      <td>0</td>\n",
              "      <td>0</td>\n",
              "      <td>0</td>\n",
              "      <td>1</td>\n",
              "      <td>0</td>\n",
              "      <td>0</td>\n",
              "      <td>0</td>\n",
              "      <td>0</td>\n",
              "      <td>0</td>\n",
              "      <td>0</td>\n",
              "      <td>0</td>\n",
              "      <td>0</td>\n",
              "      <td>0</td>\n",
              "      <td>0</td>\n",
              "      <td>0</td>\n",
              "      <td>0</td>\n",
              "      <td>0</td>\n",
              "      <td>0</td>\n",
              "      <td>0</td>\n",
              "      <td>0</td>\n",
              "      <td>0</td>\n",
              "      <td>0</td>\n",
              "      <td>0</td>\n",
              "      <td>0</td>\n",
              "      <td>0</td>\n",
              "      <td>0</td>\n",
              "      <td>1</td>\n",
              "      <td>0</td>\n",
              "      <td>0</td>\n",
              "      <td>0</td>\n",
              "      <td>0</td>\n",
              "      <td>0</td>\n",
              "      <td>0</td>\n",
              "      <td>0</td>\n",
              "      <td>0</td>\n",
              "      <td>1</td>\n",
              "      <td>0</td>\n",
              "      <td>0</td>\n",
              "      <td>0</td>\n",
              "    </tr>\n",
              "    <tr>\n",
              "      <th>3</th>\n",
              "      <td>0.59</td>\n",
              "      <td>1680</td>\n",
              "      <td>2</td>\n",
              "      <td>2</td>\n",
              "      <td>10</td>\n",
              "      <td>5</td>\n",
              "      <td>6.0</td>\n",
              "      <td>4.0</td>\n",
              "      <td>6.0</td>\n",
              "      <td>3.0</td>\n",
              "      <td>105.0</td>\n",
              "      <td>4</td>\n",
              "      <td>19</td>\n",
              "      <td>1.29905</td>\n",
              "      <td>False</td>\n",
              "      <td>0</td>\n",
              "      <td>0</td>\n",
              "      <td>0</td>\n",
              "      <td>0</td>\n",
              "      <td>0</td>\n",
              "      <td>1</td>\n",
              "      <td>0</td>\n",
              "      <td>1</td>\n",
              "      <td>1</td>\n",
              "      <td>0</td>\n",
              "      <td>0</td>\n",
              "      <td>0</td>\n",
              "      <td>1</td>\n",
              "      <td>0</td>\n",
              "      <td>0</td>\n",
              "      <td>0</td>\n",
              "      <td>0</td>\n",
              "      <td>0</td>\n",
              "      <td>0</td>\n",
              "      <td>0</td>\n",
              "      <td>0</td>\n",
              "      <td>0</td>\n",
              "      <td>0</td>\n",
              "      <td>0</td>\n",
              "      <td>0</td>\n",
              "      <td>...</td>\n",
              "      <td>0</td>\n",
              "      <td>0</td>\n",
              "      <td>0</td>\n",
              "      <td>0</td>\n",
              "      <td>1</td>\n",
              "      <td>0</td>\n",
              "      <td>0</td>\n",
              "      <td>0</td>\n",
              "      <td>0</td>\n",
              "      <td>0</td>\n",
              "      <td>0</td>\n",
              "      <td>0</td>\n",
              "      <td>0</td>\n",
              "      <td>0</td>\n",
              "      <td>0</td>\n",
              "      <td>0</td>\n",
              "      <td>0</td>\n",
              "      <td>0</td>\n",
              "      <td>0</td>\n",
              "      <td>0</td>\n",
              "      <td>0</td>\n",
              "      <td>0</td>\n",
              "      <td>0</td>\n",
              "      <td>0</td>\n",
              "      <td>0</td>\n",
              "      <td>0</td>\n",
              "      <td>0</td>\n",
              "      <td>1</td>\n",
              "      <td>0</td>\n",
              "      <td>0</td>\n",
              "      <td>0</td>\n",
              "      <td>0</td>\n",
              "      <td>0</td>\n",
              "      <td>0</td>\n",
              "      <td>0</td>\n",
              "      <td>0</td>\n",
              "      <td>1</td>\n",
              "      <td>0</td>\n",
              "      <td>0</td>\n",
              "      <td>0</td>\n",
              "    </tr>\n",
              "    <tr>\n",
              "      <th>4</th>\n",
              "      <td>0.00</td>\n",
              "      <td>1680</td>\n",
              "      <td>2</td>\n",
              "      <td>2</td>\n",
              "      <td>10</td>\n",
              "      <td>5</td>\n",
              "      <td>6.0</td>\n",
              "      <td>4.0</td>\n",
              "      <td>6.0</td>\n",
              "      <td>3.0</td>\n",
              "      <td>105.0</td>\n",
              "      <td>4</td>\n",
              "      <td>19</td>\n",
              "      <td>1.29905</td>\n",
              "      <td>False</td>\n",
              "      <td>0</td>\n",
              "      <td>0</td>\n",
              "      <td>0</td>\n",
              "      <td>0</td>\n",
              "      <td>0</td>\n",
              "      <td>1</td>\n",
              "      <td>0</td>\n",
              "      <td>1</td>\n",
              "      <td>1</td>\n",
              "      <td>0</td>\n",
              "      <td>0</td>\n",
              "      <td>0</td>\n",
              "      <td>0</td>\n",
              "      <td>0</td>\n",
              "      <td>0</td>\n",
              "      <td>0</td>\n",
              "      <td>0</td>\n",
              "      <td>0</td>\n",
              "      <td>1</td>\n",
              "      <td>0</td>\n",
              "      <td>0</td>\n",
              "      <td>0</td>\n",
              "      <td>0</td>\n",
              "      <td>0</td>\n",
              "      <td>0</td>\n",
              "      <td>...</td>\n",
              "      <td>0</td>\n",
              "      <td>0</td>\n",
              "      <td>0</td>\n",
              "      <td>0</td>\n",
              "      <td>1</td>\n",
              "      <td>0</td>\n",
              "      <td>0</td>\n",
              "      <td>0</td>\n",
              "      <td>0</td>\n",
              "      <td>0</td>\n",
              "      <td>0</td>\n",
              "      <td>0</td>\n",
              "      <td>0</td>\n",
              "      <td>0</td>\n",
              "      <td>0</td>\n",
              "      <td>0</td>\n",
              "      <td>0</td>\n",
              "      <td>0</td>\n",
              "      <td>0</td>\n",
              "      <td>0</td>\n",
              "      <td>0</td>\n",
              "      <td>0</td>\n",
              "      <td>0</td>\n",
              "      <td>0</td>\n",
              "      <td>0</td>\n",
              "      <td>0</td>\n",
              "      <td>0</td>\n",
              "      <td>1</td>\n",
              "      <td>0</td>\n",
              "      <td>0</td>\n",
              "      <td>0</td>\n",
              "      <td>0</td>\n",
              "      <td>0</td>\n",
              "      <td>0</td>\n",
              "      <td>0</td>\n",
              "      <td>0</td>\n",
              "      <td>1</td>\n",
              "      <td>0</td>\n",
              "      <td>0</td>\n",
              "      <td>0</td>\n",
              "    </tr>\n",
              "  </tbody>\n",
              "</table>\n",
              "<p>5 rows × 84 columns</p>\n",
              "</div>"
            ],
            "text/plain": [
              "    dis  playId  quarter  ...  passResult_I  passResult_IN  passResult_S\n",
              "0  0.00    1680        2  ...             0              0             0\n",
              "1  0.00    1680        2  ...             0              0             0\n",
              "2  0.00    1680        2  ...             0              0             0\n",
              "3  0.59    1680        2  ...             0              0             0\n",
              "4  0.00    1680        2  ...             0              0             0\n",
              "\n",
              "[5 rows x 84 columns]"
            ]
          },
          "metadata": {
            "tags": []
          },
          "execution_count": 14
        }
      ]
    },
    {
      "cell_type": "code",
      "metadata": {
        "id": "Szg8nKYz1ta-"
      },
      "source": [
        "# Set features. This will also be used as your x values.\n",
        "selected_features = df[['quarter', 'down', 'yardsToGo', 'defendersInTheBox', 'numberOfPassRushers', 'isDefensivePI',\n",
        "                        'offenseFormation_EMPTY',\t'offenseFormation_I_FORM',\t'offenseFormation_JUMBO',\t'offenseFormation_PISTOL',\t'offenseFormation_SHOTGUN',\t'offenseFormation_SINGLEBACK',\n",
        "                        'offenseFormation_WILDCAT',\t'personnelO_0 RB, 0 TE, 5 WR',\t'personnelO_0 RB, 1 TE, 4 WR',\t'personnelO_1 RB, 0 TE, 4 WR',\t'personnelO_1 RB, 1 TE, 3 WR',\t'personnelO_1 RB, 2 TE, 2 WR',\t\n",
        "                        'personnelO_1 RB, 3 TE, 1 WR',\t'personnelO_2 QB, 1 RB, 1 TE, 2 WR',\t'personnelO_2 RB, 0 TE, 3 WR',\t'personnelO_2 RB, 1 TE, 2 WR',\t'personnelO_2 RB, 2 TE, 1 WR',\n",
        "                        'personnelO_3 RB, 1 TE, 1 WR',\t'personnelO_6 OL, 1 RB, 1 TE, 2 WR',\t'personnelO_6 OL, 1 RB, 2 TE, 1 WR',\t'personnelO_6 OL, 2 RB, 1 TE, 0 WR,1 DL',\t'personnelO_6 OL, 2 RB, 2 TE, 0 WR',\n",
        "                        'personnelD_0 DL, 4 LB, 7 DB',\t'personnelD_0 DL, 5 LB, 6 DB',\t'personnelD_0 DL, 6 LB, 5 DB',\t'personnelD_1 DL, 3 LB, 7 DB',\t'personnelD_1 DL, 4 LB, 6 DB',\n",
        "                        'personnelD_1 DL, 5 LB, 5 DB',\t'personnelD_2 DL, 2 LB, 7 DB',\t'personnelD_2 DL, 3 LB, 6 DB',\t'personnelD_2 DL, 4 LB, 5 DB',\t'personnelD_3 DL, 1 LB, 7 DB',\n",
        "                        'personnelD_3 DL, 2 LB, 6 DB',\t'personnelD_3 DL, 3 LB, 5 DB',\t'personnelD_3 DL, 4 LB, 4 DB',\t'personnelD_3 DL, 5 LB, 3 DB',\t'personnelD_4 DL, 1 LB, 6 DB',\n",
        "                        'personnelD_4 DL, 2 LB, 5 DB',\t'personnelD_4 DL, 3 LB, 4 DB',\t'personnelD_4 DL, 4 LB, 3 DB',\t'personnelD_4 DL, 5 LB, 2 DB',\t'personnelD_5 DL, 2 LB, 4 DB'\t]]"
      ],
      "execution_count": 15,
      "outputs": []
    },
    {
      "cell_type": "code",
      "metadata": {
        "id": "lnncRLUq73WA"
      },
      "source": [
        "defensive_features = df[['personnelD_0 DL, 4 LB, 7 DB',\t'personnelD_0 DL, 5 LB, 6 DB',\t'personnelD_0 DL, 6 LB, 5 DB',\t'personnelD_1 DL, 3 LB, 7 DB',\t'personnelD_1 DL, 4 LB, 6 DB',\n",
        "                        'personnelD_1 DL, 5 LB, 5 DB',\t'personnelD_2 DL, 2 LB, 7 DB',\t'personnelD_2 DL, 3 LB, 6 DB',\t'personnelD_2 DL, 4 LB, 5 DB',\t'personnelD_3 DL, 1 LB, 7 DB',\n",
        "                        'personnelD_3 DL, 2 LB, 6 DB',\t'personnelD_3 DL, 3 LB, 5 DB',\t'personnelD_3 DL, 4 LB, 4 DB',\t'personnelD_3 DL, 5 LB, 3 DB',\t'personnelD_4 DL, 1 LB, 6 DB',\n",
        "                        'personnelD_4 DL, 2 LB, 5 DB',\t'personnelD_4 DL, 3 LB, 4 DB',\t'personnelD_4 DL, 4 LB, 3 DB',\t'personnelD_4 DL, 5 LB, 2 DB',\t'personnelD_5 DL, 2 LB, 4 DB']]"
      ],
      "execution_count": 16,
      "outputs": []
    },
    {
      "cell_type": "code",
      "metadata": {
        "id": "a9mb-RHF-LX4"
      },
      "source": [
        "offensive_features = df[['offenseFormation_EMPTY',\t'offenseFormation_I_FORM',\t'offenseFormation_JUMBO',\t'offenseFormation_PISTOL',\t'offenseFormation_SHOTGUN',\t'offenseFormation_SINGLEBACK',\n",
        "                        'offenseFormation_WILDCAT',\t'personnelO_0 RB, 0 TE, 5 WR',\t'personnelO_0 RB, 1 TE, 4 WR',\t'personnelO_1 RB, 0 TE, 4 WR',\t'personnelO_1 RB, 1 TE, 3 WR',\t'personnelO_1 RB, 2 TE, 2 WR',\t\n",
        "                        'personnelO_1 RB, 3 TE, 1 WR',\t'personnelO_2 QB, 1 RB, 1 TE, 2 WR',\t'personnelO_2 RB, 0 TE, 3 WR',\t'personnelO_2 RB, 1 TE, 2 WR',\t'personnelO_2 RB, 2 TE, 1 WR',\n",
        "                        'personnelO_3 RB, 1 TE, 1 WR',\t'personnelO_6 OL, 1 RB, 1 TE, 2 WR',\t'personnelO_6 OL, 1 RB, 2 TE, 1 WR',\t'personnelO_6 OL, 2 RB, 1 TE, 0 WR,1 DL',\t'personnelO_6 OL, 2 RB, 2 TE, 0 WR',]]"
      ],
      "execution_count": 17,
      "outputs": []
    },
    {
      "cell_type": "markdown",
      "metadata": {
        "id": "n80d9nvM74Pw"
      },
      "source": [
        "**Catch Predictions**"
      ]
    },
    {
      "cell_type": "markdown",
      "metadata": {
        "id": "_FLBax8KfHb-"
      },
      "source": [
        "Logistic Regression-----"
      ]
    },
    {
      "cell_type": "code",
      "metadata": {
        "id": "NGhjXWM91ta-"
      },
      "source": [
        "from sklearn.model_selection import train_test_split\n",
        "y = df[\"passResult_C\"]\n",
        "X = selected_features\n",
        "\n",
        "X_train, X_test, y_train, y_test = train_test_split(X, y, random_state=1, stratify=y)"
      ],
      "execution_count": 18,
      "outputs": []
    },
    {
      "cell_type": "code",
      "metadata": {
        "id": "mdKbdJpe1ta-"
      },
      "source": [
        "from sklearn.preprocessing import MinMaxScaler\n",
        "X_scaler = MinMaxScaler().fit(X_train)\n",
        "\n",
        "X_train_scaled = X_scaler.transform(X_train)\n",
        "X_test_scaled = X_scaler.transform(X_test)"
      ],
      "execution_count": 19,
      "outputs": []
    },
    {
      "cell_type": "code",
      "metadata": {
        "id": "gH5e1W4S1ta-",
        "colab": {
          "base_uri": "https://localhost:8080/"
        },
        "outputId": "28209694-dd9a-4e92-df65-19b18311ae52"
      },
      "source": [
        "from sklearn.linear_model import LogisticRegression\n",
        "model = LogisticRegression(max_iter=1000)\n",
        "model.fit(X_train_scaled, y_train)"
      ],
      "execution_count": 20,
      "outputs": [
        {
          "output_type": "execute_result",
          "data": {
            "text/plain": [
              "LogisticRegression(C=1.0, class_weight=None, dual=False, fit_intercept=True,\n",
              "                   intercept_scaling=1, l1_ratio=None, max_iter=1000,\n",
              "                   multi_class='auto', n_jobs=None, penalty='l2',\n",
              "                   random_state=None, solver='lbfgs', tol=0.0001, verbose=0,\n",
              "                   warm_start=False)"
            ]
          },
          "metadata": {
            "tags": []
          },
          "execution_count": 20
        }
      ]
    },
    {
      "cell_type": "code",
      "metadata": {
        "id": "9FY0qMFj1ta-",
        "colab": {
          "base_uri": "https://localhost:8080/"
        },
        "outputId": "7d87273d-5dda-4478-c3e8-5f5c742dde97"
      },
      "source": [
        "print(f\"Training Data Score: {model.score(X_train_scaled, y_train)}\")\n",
        "print(f\"Testing Data Score: {model.score(X_test_scaled, y_test)}\")"
      ],
      "execution_count": 21,
      "outputs": [
        {
          "output_type": "stream",
          "text": [
            "Training Data Score: 0.7214973850812001\n",
            "Testing Data Score: 0.7213546346984276\n"
          ],
          "name": "stdout"
        }
      ]
    },
    {
      "cell_type": "markdown",
      "metadata": {
        "id": "hE7_Cu9hfSUx"
      },
      "source": [
        "Random Forest Classifier"
      ]
    },
    {
      "cell_type": "code",
      "metadata": {
        "id": "aaFLUe-11ta-",
        "colab": {
          "base_uri": "https://localhost:8080/"
        },
        "outputId": "27571c2d-576a-4c04-d4cd-9775a9c78f1d"
      },
      "source": [
        "from sklearn.ensemble import RandomForestClassifier\n",
        "rf = RandomForestClassifier(n_estimators=100)\n",
        "rf = rf.fit(X_train, y_train)\n",
        "rf.score(X_test, y_test)"
      ],
      "execution_count": 22,
      "outputs": [
        {
          "output_type": "execute_result",
          "data": {
            "text/plain": [
              "0.9779619276148657"
            ]
          },
          "metadata": {
            "tags": []
          },
          "execution_count": 22
        }
      ]
    },
    {
      "cell_type": "code",
      "metadata": {
        "id": "Pco2SaJOfCKn",
        "colab": {
          "base_uri": "https://localhost:8080/"
        },
        "outputId": "9623cb80-3970-483d-91c8-fff68d58f5f0"
      },
      "source": [
        "sorted(zip(rf.feature_importances_, selected_features), reverse=True)"
      ],
      "execution_count": 23,
      "outputs": [
        {
          "output_type": "execute_result",
          "data": {
            "text/plain": [
              "[(0.22615246517729037, 'yardsToGo'),\n",
              " (0.13663000440013245, 'quarter'),\n",
              " (0.1150892575014145, 'defendersInTheBox'),\n",
              " (0.10139439288855412, 'numberOfPassRushers'),\n",
              " (0.08494255365100666, 'down'),\n",
              " (0.028002106789086913, 'personnelD_4 DL, 2 LB, 5 DB'),\n",
              " (0.02598287368285114, 'personnelD_3 DL, 3 LB, 5 DB'),\n",
              " (0.023935920961247158, 'personnelD_2 DL, 4 LB, 5 DB'),\n",
              " (0.02299116026770439, 'personnelD_4 DL, 1 LB, 6 DB'),\n",
              " (0.01957712067183225, 'offenseFormation_SHOTGUN'),\n",
              " (0.01882183799518611, 'isDefensivePI'),\n",
              " (0.0178848820561276, 'personnelO_1 RB, 1 TE, 3 WR'),\n",
              " (0.016397497637150493, 'personnelD_3 DL, 2 LB, 6 DB'),\n",
              " (0.014702791233921788, 'offenseFormation_EMPTY'),\n",
              " (0.014145465235527255, 'personnelD_4 DL, 3 LB, 4 DB'),\n",
              " (0.013681601015266932, 'offenseFormation_SINGLEBACK'),\n",
              " (0.013668029345777743, 'personnelD_2 DL, 3 LB, 6 DB'),\n",
              " (0.012806214209865918, 'personnelO_1 RB, 2 TE, 2 WR'),\n",
              " (0.010046316697151387, 'personnelO_1 RB, 0 TE, 4 WR'),\n",
              " (0.00847938067835452, 'personnelO_2 RB, 1 TE, 2 WR'),\n",
              " (0.008282914341356676, 'personnelD_1 DL, 3 LB, 7 DB'),\n",
              " (0.007907550008083969, 'personnelD_1 DL, 4 LB, 6 DB'),\n",
              " (0.0070968218953034075, 'offenseFormation_I_FORM'),\n",
              " (0.005715035837370198, 'personnelD_3 DL, 4 LB, 4 DB'),\n",
              " (0.005470006462287284, 'personnelD_2 DL, 2 LB, 7 DB'),\n",
              " (0.005458577770382505, 'personnelD_5 DL, 2 LB, 4 DB'),\n",
              " (0.005180471686838815, 'personnelO_0 RB, 1 TE, 4 WR'),\n",
              " (0.004317318990033782, 'offenseFormation_PISTOL'),\n",
              " (0.0037006056922063144, 'personnelD_1 DL, 5 LB, 5 DB'),\n",
              " (0.0034517923804035493, 'personnelO_2 RB, 0 TE, 3 WR'),\n",
              " (0.0028352142580029376, 'personnelO_1 RB, 3 TE, 1 WR'),\n",
              " (0.002573942965256912, 'personnelD_0 DL, 6 LB, 5 DB'),\n",
              " (0.0022794431574225007, 'offenseFormation_WILDCAT'),\n",
              " (0.0017025220959930565, 'personnelO_2 QB, 1 RB, 1 TE, 2 WR'),\n",
              " (0.0015448071479975264, 'personnelD_0 DL, 5 LB, 6 DB'),\n",
              " (0.0011847866943293225, 'personnelO_2 RB, 2 TE, 1 WR'),\n",
              " (0.0009790961930795554, 'personnelD_4 DL, 5 LB, 2 DB'),\n",
              " (0.0009196759663441965, 'personnelD_3 DL, 1 LB, 7 DB'),\n",
              " (0.0008390329809378398, 'personnelD_4 DL, 4 LB, 3 DB'),\n",
              " (0.000675729916083265, 'personnelO_6 OL, 1 RB, 1 TE, 2 WR'),\n",
              " (0.0006158712131854741, 'personnelO_3 RB, 1 TE, 1 WR'),\n",
              " (0.0005264525142108335, 'offenseFormation_JUMBO'),\n",
              " (0.00037692226826220484, 'personnelD_0 DL, 4 LB, 7 DB'),\n",
              " (0.0003617457550193489, 'personnelO_6 OL, 2 RB, 2 TE, 0 WR'),\n",
              " (0.00022051749762910016, 'personnelO_6 OL, 2 RB, 1 TE, 0 WR,1 DL'),\n",
              " (0.00016955382265644928, 'personnelO_6 OL, 1 RB, 2 TE, 1 WR'),\n",
              " (0.00016332022687553995, 'personnelD_3 DL, 5 LB, 3 DB'),\n",
              " (0.00011839816699776497, 'personnelO_0 RB, 0 TE, 5 WR')]"
            ]
          },
          "metadata": {
            "tags": []
          },
          "execution_count": 23
        }
      ]
    },
    {
      "cell_type": "markdown",
      "metadata": {
        "id": "KO1B81d4f2Nq"
      },
      "source": [
        "Random Forest Classifier"
      ]
    },
    {
      "cell_type": "code",
      "metadata": {
        "id": "Qce27IxIfqaN",
        "colab": {
          "base_uri": "https://localhost:8080/"
        },
        "outputId": "11b531c6-96c7-46eb-fabf-1e9104f966ee"
      },
      "source": [
        "from sklearn.ensemble import RandomForestClassifier\n",
        "rf = RandomForestClassifier(n_estimators=100)\n",
        "rf = rf.fit(X_train, y_train)\n",
        "rf.score(X_test, y_test)"
      ],
      "execution_count": 24,
      "outputs": [
        {
          "output_type": "execute_result",
          "data": {
            "text/plain": [
              "0.9779619276148657"
            ]
          },
          "metadata": {
            "tags": []
          },
          "execution_count": 24
        }
      ]
    },
    {
      "cell_type": "code",
      "metadata": {
        "id": "mAjL7aAHfqmD",
        "colab": {
          "base_uri": "https://localhost:8080/"
        },
        "outputId": "2456d7d7-424b-4a53-f5a2-3cc773bc9c39"
      },
      "source": [
        "sorted(zip(rf.feature_importances_, selected_features), reverse=True)"
      ],
      "execution_count": 25,
      "outputs": [
        {
          "output_type": "execute_result",
          "data": {
            "text/plain": [
              "[(0.22512762410986023, 'yardsToGo'),\n",
              " (0.13452840260748256, 'quarter'),\n",
              " (0.11534199390877775, 'defendersInTheBox'),\n",
              " (0.10148753843184954, 'numberOfPassRushers'),\n",
              " (0.08330177027827228, 'down'),\n",
              " (0.028517061108061337, 'personnelD_4 DL, 2 LB, 5 DB'),\n",
              " (0.026847035638184788, 'personnelD_3 DL, 3 LB, 5 DB'),\n",
              " (0.024211542129644322, 'personnelD_2 DL, 4 LB, 5 DB'),\n",
              " (0.022079417951404605, 'personnelD_4 DL, 1 LB, 6 DB'),\n",
              " (0.019283620234093315, 'isDefensivePI'),\n",
              " (0.01869322724640635, 'offenseFormation_SHOTGUN'),\n",
              " (0.01701650644077443, 'personnelD_3 DL, 2 LB, 6 DB'),\n",
              " (0.01686358388679135, 'personnelO_1 RB, 1 TE, 3 WR'),\n",
              " (0.016784818906355362, 'offenseFormation_EMPTY'),\n",
              " (0.015439388950832779, 'offenseFormation_SINGLEBACK'),\n",
              " (0.013653686850181613, 'personnelD_2 DL, 3 LB, 6 DB'),\n",
              " (0.013151081151878059, 'personnelO_1 RB, 2 TE, 2 WR'),\n",
              " (0.012837806737839283, 'personnelD_4 DL, 3 LB, 4 DB'),\n",
              " (0.010311036876460709, 'personnelO_1 RB, 0 TE, 4 WR'),\n",
              " (0.008183621981206764, 'personnelO_2 RB, 1 TE, 2 WR'),\n",
              " (0.008062314412778241, 'personnelD_1 DL, 3 LB, 7 DB'),\n",
              " (0.007734957184827105, 'offenseFormation_I_FORM'),\n",
              " (0.007140124919363075, 'personnelD_1 DL, 4 LB, 6 DB'),\n",
              " (0.0064320055667012824, 'personnelD_3 DL, 4 LB, 4 DB'),\n",
              " (0.006194025207301349, 'personnelO_0 RB, 1 TE, 4 WR'),\n",
              " (0.005831025355090369, 'personnelD_5 DL, 2 LB, 4 DB'),\n",
              " (0.005176907940625012, 'personnelD_2 DL, 2 LB, 7 DB'),\n",
              " (0.004748261971660992, 'offenseFormation_PISTOL'),\n",
              " (0.0034557024552713815, 'personnelD_1 DL, 5 LB, 5 DB'),\n",
              " (0.0032093717531776122, 'personnelO_2 RB, 0 TE, 3 WR'),\n",
              " (0.002495630615529797, 'personnelO_2 QB, 1 RB, 1 TE, 2 WR'),\n",
              " (0.0023631113865672324, 'personnelD_0 DL, 6 LB, 5 DB'),\n",
              " (0.002243607969083768, 'offenseFormation_WILDCAT'),\n",
              " (0.0022414228246503236, 'personnelO_1 RB, 3 TE, 1 WR'),\n",
              " (0.0018762681772521053, 'personnelD_0 DL, 5 LB, 6 DB'),\n",
              " (0.0012731846496931835, 'personnelO_2 RB, 2 TE, 1 WR'),\n",
              " (0.0011199725835597581, 'personnelD_4 DL, 5 LB, 2 DB'),\n",
              " (0.0009353059027434801, 'personnelO_6 OL, 1 RB, 1 TE, 2 WR'),\n",
              " (0.0008785094339705784, 'offenseFormation_JUMBO'),\n",
              " (0.0006021971330976968, 'personnelD_3 DL, 1 LB, 7 DB'),\n",
              " (0.0006000846039822278, 'personnelD_4 DL, 4 LB, 3 DB'),\n",
              " (0.0004740406353430516, 'personnelO_3 RB, 1 TE, 1 WR'),\n",
              " (0.0003528210351366862, 'personnelD_0 DL, 4 LB, 7 DB'),\n",
              " (0.0003454506885128694, 'personnelO_6 OL, 2 RB, 2 TE, 0 WR'),\n",
              " (0.00018751688849724256, 'personnelO_6 OL, 2 RB, 1 TE, 0 WR,1 DL'),\n",
              " (0.00014985279507677453, 'personnelO_6 OL, 1 RB, 2 TE, 1 WR'),\n",
              " (0.00012152749793524179, 'personnelO_0 RB, 0 TE, 5 WR'),\n",
              " (9.403298621411433e-05, 'personnelD_3 DL, 5 LB, 3 DB')]"
            ]
          },
          "metadata": {
            "tags": []
          },
          "execution_count": 25
        }
      ]
    },
    {
      "cell_type": "markdown",
      "metadata": {
        "id": "X45gDQoK8BIV"
      },
      "source": [
        "**Incomplete Predictions**"
      ]
    },
    {
      "cell_type": "markdown",
      "metadata": {
        "id": "bS6vvPkgft5B"
      },
      "source": [
        "Logistic Regression"
      ]
    },
    {
      "cell_type": "code",
      "metadata": {
        "id": "eENyUFxk1ta-"
      },
      "source": [
        "from sklearn.model_selection import train_test_split\n",
        "y = df[\"passResult_I\"]\n",
        "X = selected_features\n",
        "\n",
        "X_train, X_test, y_train, y_test = train_test_split(X, y, random_state=1, stratify=y)"
      ],
      "execution_count": 26,
      "outputs": []
    },
    {
      "cell_type": "code",
      "metadata": {
        "id": "Hdn8n63C1ta-"
      },
      "source": [
        "from sklearn.preprocessing import MinMaxScaler\n",
        "X_scaler = MinMaxScaler().fit(X_train)\n",
        "\n",
        "X_train_scaled = X_scaler.transform(X_train)\n",
        "X_test_scaled = X_scaler.transform(X_test)"
      ],
      "execution_count": 27,
      "outputs": []
    },
    {
      "cell_type": "code",
      "metadata": {
        "id": "L9BhnBrg8LhR",
        "colab": {
          "base_uri": "https://localhost:8080/"
        },
        "outputId": "18ec83a8-1b3c-426d-d2cf-abaa19d817f2"
      },
      "source": [
        "from sklearn.linear_model import LogisticRegression\n",
        "model = LogisticRegression(max_iter=1000)\n",
        "model.fit(X_train_scaled, y_train)"
      ],
      "execution_count": 28,
      "outputs": [
        {
          "output_type": "execute_result",
          "data": {
            "text/plain": [
              "LogisticRegression(C=1.0, class_weight=None, dual=False, fit_intercept=True,\n",
              "                   intercept_scaling=1, l1_ratio=None, max_iter=1000,\n",
              "                   multi_class='auto', n_jobs=None, penalty='l2',\n",
              "                   random_state=None, solver='lbfgs', tol=0.0001, verbose=0,\n",
              "                   warm_start=False)"
            ]
          },
          "metadata": {
            "tags": []
          },
          "execution_count": 28
        }
      ]
    },
    {
      "cell_type": "code",
      "metadata": {
        "id": "6et3u9KA8Ms_",
        "colab": {
          "base_uri": "https://localhost:8080/"
        },
        "outputId": "fe8ee989-4712-4e03-f4de-0e1c859c7a33"
      },
      "source": [
        "print(f\"Training Data Score: {model.score(X_train_scaled, y_train)}\")\n",
        "print(f\"Testing Data Score: {model.score(X_test_scaled, y_test)}\")"
      ],
      "execution_count": 29,
      "outputs": [
        {
          "output_type": "stream",
          "text": [
            "Training Data Score: 0.7959731869626463\n",
            "Testing Data Score: 0.7970573805927013\n"
          ],
          "name": "stdout"
        }
      ]
    },
    {
      "cell_type": "markdown",
      "metadata": {
        "id": "IAmiixGTgM6S"
      },
      "source": [
        "Random Forest Classifier"
      ]
    },
    {
      "cell_type": "code",
      "metadata": {
        "id": "K9r8M9xm8OGu",
        "colab": {
          "base_uri": "https://localhost:8080/"
        },
        "outputId": "7d0bf5d7-8926-4c41-f5cb-6fe45bc9c0d8"
      },
      "source": [
        "from sklearn.ensemble import RandomForestClassifier\n",
        "rf = RandomForestClassifier(n_estimators=100)\n",
        "rf = rf.fit(X_train, y_train)\n",
        "rf.score(X_test, y_test)"
      ],
      "execution_count": 30,
      "outputs": [
        {
          "output_type": "execute_result",
          "data": {
            "text/plain": [
              "0.9910040753675845"
            ]
          },
          "metadata": {
            "tags": []
          },
          "execution_count": 30
        }
      ]
    },
    {
      "cell_type": "code",
      "metadata": {
        "id": "kxKOUqJg8PiX",
        "colab": {
          "base_uri": "https://localhost:8080/"
        },
        "outputId": "c2acfc11-8be6-4d49-818f-241a89dd6172"
      },
      "source": [
        "sorted(zip(rf.feature_importances_, selected_features), reverse=True)"
      ],
      "execution_count": 31,
      "outputs": [
        {
          "output_type": "execute_result",
          "data": {
            "text/plain": [
              "[(0.2422791739233051, 'yardsToGo'),\n",
              " (0.1481419868672976, 'quarter'),\n",
              " (0.11851659040975127, 'numberOfPassRushers'),\n",
              " (0.10476670891035254, 'defendersInTheBox'),\n",
              " (0.078425641830812, 'down'),\n",
              " (0.02730228540284769, 'personnelD_4 DL, 2 LB, 5 DB'),\n",
              " (0.025200925364656304, 'personnelD_4 DL, 1 LB, 6 DB'),\n",
              " (0.020820463273132347, 'offenseFormation_SHOTGUN'),\n",
              " (0.0198770517828714, 'offenseFormation_EMPTY'),\n",
              " (0.01924648304785656, 'personnelD_3 DL, 3 LB, 5 DB'),\n",
              " (0.018918790430514167, 'personnelD_2 DL, 4 LB, 5 DB'),\n",
              " (0.01635910071045887, 'personnelD_3 DL, 2 LB, 6 DB'),\n",
              " (0.016139315648186957, 'personnelO_1 RB, 1 TE, 3 WR'),\n",
              " (0.013031320663495128, 'personnelD_1 DL, 3 LB, 7 DB'),\n",
              " (0.01230240892654137, 'personnelD_2 DL, 2 LB, 7 DB'),\n",
              " (0.012119169235695077, 'personnelO_1 RB, 2 TE, 2 WR'),\n",
              " (0.011646480878420639, 'offenseFormation_SINGLEBACK'),\n",
              " (0.010564217726611348, 'isDefensivePI'),\n",
              " (0.010415056460980787, 'personnelO_1 RB, 0 TE, 4 WR'),\n",
              " (0.00991646103488696, 'personnelD_4 DL, 3 LB, 4 DB'),\n",
              " (0.007932003720342215, 'personnelD_5 DL, 2 LB, 4 DB'),\n",
              " (0.007793766138482734, 'personnelD_2 DL, 3 LB, 6 DB'),\n",
              " (0.006038750880834652, 'personnelO_2 RB, 0 TE, 3 WR'),\n",
              " (0.005265726861456047, 'personnelO_2 RB, 1 TE, 2 WR'),\n",
              " (0.004718164356816828, 'personnelD_0 DL, 5 LB, 6 DB'),\n",
              " (0.004709470234293332, 'personnelD_3 DL, 4 LB, 4 DB'),\n",
              " (0.004523756413659881, 'personnelD_1 DL, 4 LB, 6 DB'),\n",
              " (0.004384327851118049, 'offenseFormation_I_FORM'),\n",
              " (0.0038579245780973894, 'personnelO_0 RB, 1 TE, 4 WR'),\n",
              " (0.002428661407875464, 'offenseFormation_PISTOL'),\n",
              " (0.002363379363386665, 'personnelD_1 DL, 5 LB, 5 DB'),\n",
              " (0.0019753994309743574, 'personnelD_3 DL, 1 LB, 7 DB'),\n",
              " (0.0019215818001318157, 'personnelD_4 DL, 5 LB, 2 DB'),\n",
              " (0.001903308120372273, 'personnelO_1 RB, 3 TE, 1 WR'),\n",
              " (0.0007821014927349106, 'personnelO_3 RB, 1 TE, 1 WR'),\n",
              " (0.0006223695907886794, 'personnelO_6 OL, 1 RB, 1 TE, 2 WR'),\n",
              " (0.0004627024629943406, 'personnelO_2 QB, 1 RB, 1 TE, 2 WR'),\n",
              " (0.00044551804391999264, 'personnelD_0 DL, 4 LB, 7 DB'),\n",
              " (0.00041184551117959446, 'offenseFormation_JUMBO'),\n",
              " (0.00034137640436712367, 'personnelD_0 DL, 6 LB, 5 DB'),\n",
              " (0.00026273488951176517, 'personnelO_6 OL, 2 RB, 2 TE, 0 WR'),\n",
              " (0.00025317324274625873, 'personnelO_2 RB, 2 TE, 1 WR'),\n",
              " (0.00021694225487877902, 'personnelO_6 OL, 2 RB, 1 TE, 0 WR,1 DL'),\n",
              " (0.00021071645031611643, 'personnelD_4 DL, 4 LB, 3 DB'),\n",
              " (8.76228800894802e-05, 'personnelD_3 DL, 5 LB, 3 DB'),\n",
              " (5.090186280626102e-05, 'offenseFormation_WILDCAT'),\n",
              " (2.5262714692393692e-05, 'personnelO_6 OL, 1 RB, 2 TE, 1 WR'),\n",
              " (2.087851245840791e-05, 'personnelO_0 RB, 0 TE, 5 WR')]"
            ]
          },
          "metadata": {
            "tags": []
          },
          "execution_count": 31
        }
      ]
    },
    {
      "cell_type": "markdown",
      "metadata": {
        "id": "cTkwH8ZZ8OiY"
      },
      "source": [
        "**Sack Predictions**"
      ]
    },
    {
      "cell_type": "markdown",
      "metadata": {
        "id": "zXRnXxtBgejQ"
      },
      "source": [
        "Logistic Regression"
      ]
    },
    {
      "cell_type": "code",
      "metadata": {
        "id": "mi-rSAZJ8R6A"
      },
      "source": [
        "from sklearn.model_selection import train_test_split\n",
        "y = df[\"passResult_S\"]\n",
        "X = selected_features\n",
        "\n",
        "X_train, X_test, y_train, y_test = train_test_split(X, y, random_state=1, stratify=y)"
      ],
      "execution_count": 32,
      "outputs": []
    },
    {
      "cell_type": "code",
      "metadata": {
        "id": "m16Pw2E28UUO"
      },
      "source": [
        "from sklearn.preprocessing import MinMaxScaler\n",
        "X_scaler = MinMaxScaler().fit(X_train)\n",
        "\n",
        "X_train_scaled = X_scaler.transform(X_train)\n",
        "X_test_scaled = X_scaler.transform(X_test)"
      ],
      "execution_count": 33,
      "outputs": []
    },
    {
      "cell_type": "code",
      "metadata": {
        "id": "YF21MwyF8V4i",
        "colab": {
          "base_uri": "https://localhost:8080/"
        },
        "outputId": "2c689858-188f-4ef3-8b79-c7dfc48c3f00"
      },
      "source": [
        "from sklearn.linear_model import LogisticRegression\n",
        "model = LogisticRegression(max_iter=1000)\n",
        "model.fit(X_train_scaled, y_train)"
      ],
      "execution_count": 34,
      "outputs": [
        {
          "output_type": "execute_result",
          "data": {
            "text/plain": [
              "LogisticRegression(C=1.0, class_weight=None, dual=False, fit_intercept=True,\n",
              "                   intercept_scaling=1, l1_ratio=None, max_iter=1000,\n",
              "                   multi_class='auto', n_jobs=None, penalty='l2',\n",
              "                   random_state=None, solver='lbfgs', tol=0.0001, verbose=0,\n",
              "                   warm_start=False)"
            ]
          },
          "metadata": {
            "tags": []
          },
          "execution_count": 34
        }
      ]
    },
    {
      "cell_type": "code",
      "metadata": {
        "id": "kJNWy4JZ8XW_",
        "colab": {
          "base_uri": "https://localhost:8080/"
        },
        "outputId": "5d342228-c802-43f4-da33-a6ee915fc89d"
      },
      "source": [
        "print(f\"Training Data Score: {model.score(X_train_scaled, y_train)}\")\n",
        "print(f\"Testing Data Score: {model.score(X_test_scaled, y_test)}\")"
      ],
      "execution_count": 35,
      "outputs": [
        {
          "output_type": "stream",
          "text": [
            "Training Data Score: 0.9300804714949563\n",
            "Testing Data Score: 0.930009569099096\n"
          ],
          "name": "stdout"
        }
      ]
    },
    {
      "cell_type": "markdown",
      "metadata": {
        "id": "_KLCOYhVgkF8"
      },
      "source": [
        "Random Forest Clasifier"
      ]
    },
    {
      "cell_type": "code",
      "metadata": {
        "id": "Tyq-9nc6giyQ",
        "colab": {
          "base_uri": "https://localhost:8080/"
        },
        "outputId": "197bde4a-d93a-4721-c518-4701fd67971f"
      },
      "source": [
        "from sklearn.ensemble import RandomForestClassifier\n",
        "rf = RandomForestClassifier(n_estimators=100)\n",
        "rf = rf.fit(X_train, y_train)\n",
        "rf.score(X_test, y_test)"
      ],
      "execution_count": 36,
      "outputs": [
        {
          "output_type": "execute_result",
          "data": {
            "text/plain": [
              "0.9924612985801788"
            ]
          },
          "metadata": {
            "tags": []
          },
          "execution_count": 36
        }
      ]
    },
    {
      "cell_type": "code",
      "metadata": {
        "id": "WtmsRFrcgjCY",
        "colab": {
          "base_uri": "https://localhost:8080/"
        },
        "outputId": "f890b98d-447b-444c-c01e-28b0db07bd30"
      },
      "source": [
        "sorted(zip(rf.feature_importances_, selected_features), reverse=True)"
      ],
      "execution_count": 37,
      "outputs": [
        {
          "output_type": "execute_result",
          "data": {
            "text/plain": [
              "[(0.24882610729397833, 'yardsToGo'),\n",
              " (0.143481743522934, 'quarter'),\n",
              " (0.12494598928985287, 'numberOfPassRushers'),\n",
              " (0.1137552985997179, 'defendersInTheBox'),\n",
              " (0.0882517824000621, 'down'),\n",
              " (0.029315625473239532, 'personnelD_3 DL, 3 LB, 5 DB'),\n",
              " (0.023337237459191057, 'personnelD_4 DL, 2 LB, 5 DB'),\n",
              " (0.02149665981265191, 'personnelD_2 DL, 4 LB, 5 DB'),\n",
              " (0.01912472841428102, 'offenseFormation_SHOTGUN'),\n",
              " (0.01774893860988035, 'personnelO_2 RB, 1 TE, 2 WR'),\n",
              " (0.01681278666372922, 'personnelD_1 DL, 4 LB, 6 DB'),\n",
              " (0.016429412874692503, 'offenseFormation_SINGLEBACK'),\n",
              " (0.016240815803192393, 'personnelO_1 RB, 1 TE, 3 WR'),\n",
              " (0.015810678069829016, 'offenseFormation_I_FORM'),\n",
              " (0.011516321429141647, 'offenseFormation_EMPTY'),\n",
              " (0.011101650410442712, 'personnelO_1 RB, 2 TE, 2 WR'),\n",
              " (0.010448907475137836, 'personnelD_4 DL, 3 LB, 4 DB'),\n",
              " (0.010080782146640065, 'offenseFormation_PISTOL'),\n",
              " (0.009287393582733639, 'personnelD_1 DL, 5 LB, 5 DB'),\n",
              " (0.008785008068271979, 'personnelD_4 DL, 1 LB, 6 DB'),\n",
              " (0.007930509923230758, 'personnelD_3 DL, 4 LB, 4 DB'),\n",
              " (0.00765816816941992, 'personnelD_3 DL, 2 LB, 6 DB'),\n",
              " (0.006965684716541604, 'personnelO_2 RB, 2 TE, 1 WR'),\n",
              " (0.005001631979930564, 'personnelO_1 RB, 3 TE, 1 WR'),\n",
              " (0.004663911158453147, 'isDefensivePI'),\n",
              " (0.0041063570094044995, 'personnelD_2 DL, 3 LB, 6 DB'),\n",
              " (0.0008668317457974125, 'personnelD_5 DL, 2 LB, 4 DB'),\n",
              " (0.0007260196795053983, 'personnelO_2 QB, 1 RB, 1 TE, 2 WR'),\n",
              " (0.0007131758680228972, 'personnelO_0 RB, 1 TE, 4 WR'),\n",
              " (0.0005969770812640519, 'offenseFormation_JUMBO'),\n",
              " (0.0005571856476850939, 'personnelD_3 DL, 1 LB, 7 DB'),\n",
              " (0.0005336146526328194, 'personnelD_3 DL, 5 LB, 3 DB'),\n",
              " (0.0004900116624702379, 'personnelD_2 DL, 2 LB, 7 DB'),\n",
              " (0.0004680130121609706, 'personnelD_0 DL, 6 LB, 5 DB'),\n",
              " (0.000385049669093822, 'personnelO_1 RB, 0 TE, 4 WR'),\n",
              " (0.00032189346196941445, 'personnelD_4 DL, 4 LB, 3 DB'),\n",
              " (0.00027102640416980413, 'personnelO_2 RB, 0 TE, 3 WR'),\n",
              " (0.00023009997852124008, 'personnelD_1 DL, 3 LB, 7 DB'),\n",
              " (0.00016061770482089308, 'personnelO_6 OL, 1 RB, 1 TE, 2 WR'),\n",
              " (0.0001424257526065688, 'personnelD_0 DL, 4 LB, 7 DB'),\n",
              " (0.00013787516357540404, 'personnelO_6 OL, 2 RB, 1 TE, 0 WR,1 DL'),\n",
              " (0.00010600856618930194, 'personnelO_6 OL, 1 RB, 2 TE, 1 WR'),\n",
              " (6.97333237364057e-05, 'personnelD_0 DL, 5 LB, 6 DB'),\n",
              " (3.599417788754313e-05, 'offenseFormation_WILDCAT'),\n",
              " (2.7913791154865882e-05, 'personnelO_6 OL, 2 RB, 2 TE, 0 WR'),\n",
              " (1.4123752359103464e-05, 'personnelO_3 RB, 1 TE, 1 WR'),\n",
              " (1.3051907754846154e-05, 'personnelO_0 RB, 0 TE, 5 WR'),\n",
              " (8.226640041305085e-06, 'personnelD_4 DL, 5 LB, 2 DB')]"
            ]
          },
          "metadata": {
            "tags": []
          },
          "execution_count": 37
        }
      ]
    },
    {
      "cell_type": "markdown",
      "metadata": {
        "id": "DFml0NxK8Zoq"
      },
      "source": [
        "**Interceptions Predictions**"
      ]
    },
    {
      "cell_type": "markdown",
      "metadata": {
        "id": "ezbr8MH7gzt3"
      },
      "source": [
        "Logistic Regression"
      ]
    },
    {
      "cell_type": "code",
      "metadata": {
        "id": "rRi-ChHW8ezt"
      },
      "source": [
        "from sklearn.model_selection import train_test_split\n",
        "y = df[\"passResult_IN\"]\n",
        "X = selected_features\n",
        "\n",
        "X_train, X_test, y_train, y_test = train_test_split(X, y, random_state=1, stratify=y)"
      ],
      "execution_count": 38,
      "outputs": []
    },
    {
      "cell_type": "code",
      "metadata": {
        "id": "4zSYgoLB8iMD"
      },
      "source": [
        "from sklearn.preprocessing import MinMaxScaler\n",
        "X_scaler = MinMaxScaler().fit(X_train)\n",
        "\n",
        "X_train_scaled = X_scaler.transform(X_train)\n",
        "X_test_scaled = X_scaler.transform(X_test)"
      ],
      "execution_count": 39,
      "outputs": []
    },
    {
      "cell_type": "code",
      "metadata": {
        "id": "fc9aHy3R8jjd",
        "colab": {
          "base_uri": "https://localhost:8080/"
        },
        "outputId": "73cc9180-860f-42b9-c81a-80b4fcde8b9e"
      },
      "source": [
        "from sklearn.linear_model import LogisticRegression\n",
        "model = LogisticRegression(max_iter=1000)\n",
        "model.fit(X_train_scaled, y_train)"
      ],
      "execution_count": 40,
      "outputs": [
        {
          "output_type": "execute_result",
          "data": {
            "text/plain": [
              "LogisticRegression(C=1.0, class_weight=None, dual=False, fit_intercept=True,\n",
              "                   intercept_scaling=1, l1_ratio=None, max_iter=1000,\n",
              "                   multi_class='auto', n_jobs=None, penalty='l2',\n",
              "                   random_state=None, solver='lbfgs', tol=0.0001, verbose=0,\n",
              "                   warm_start=False)"
            ]
          },
          "metadata": {
            "tags": []
          },
          "execution_count": 40
        }
      ]
    },
    {
      "cell_type": "code",
      "metadata": {
        "id": "nORAEih08km9",
        "colab": {
          "base_uri": "https://localhost:8080/"
        },
        "outputId": "fd5a825e-fa58-458e-e2d2-daee1db8e776"
      },
      "source": [
        "print(f\"Training Data Score: {model.score(X_train_scaled, y_train)}\")\n",
        "print(f\"Testing Data Score: {model.score(X_test_scaled, y_test)}\")"
      ],
      "execution_count": 41,
      "outputs": [
        {
          "output_type": "stream",
          "text": [
            "Training Data Score: 0.9646637845889801\n",
            "Testing Data Score: 0.9644826128983683\n"
          ],
          "name": "stdout"
        }
      ]
    },
    {
      "cell_type": "markdown",
      "metadata": {
        "id": "P4wuZxv_g4IE"
      },
      "source": [
        "Random Forest Classifier"
      ]
    },
    {
      "cell_type": "code",
      "metadata": {
        "id": "9dQhkE1Dg24c",
        "colab": {
          "base_uri": "https://localhost:8080/"
        },
        "outputId": "66857a18-a113-46a4-917a-6e03a9f737b9"
      },
      "source": [
        "from sklearn.ensemble import RandomForestClassifier\n",
        "rf = RandomForestClassifier(n_estimators=100)\n",
        "rf = rf.fit(X_train, y_train)\n",
        "rf.score(X_test, y_test)"
      ],
      "execution_count": 42,
      "outputs": [
        {
          "output_type": "execute_result",
          "data": {
            "text/plain": [
              "0.9946568482204876"
            ]
          },
          "metadata": {
            "tags": []
          },
          "execution_count": 42
        }
      ]
    },
    {
      "cell_type": "code",
      "metadata": {
        "id": "ljxXe7S0g262",
        "colab": {
          "base_uri": "https://localhost:8080/"
        },
        "outputId": "6df5974f-d93d-499e-eb62-bf2be1c82acb"
      },
      "source": [
        "sorted(zip(rf.feature_importances_, selected_features), reverse=True)"
      ],
      "execution_count": 43,
      "outputs": [
        {
          "output_type": "execute_result",
          "data": {
            "text/plain": [
              "[(0.15037972207936548, 'quarter'),\n",
              " (0.14824162068442756, 'numberOfPassRushers'),\n",
              " (0.11629316236457214, 'yardsToGo'),\n",
              " (0.1098671591804076, 'defendersInTheBox'),\n",
              " (0.08932014170729179, 'down'),\n",
              " (0.043681712950619636, 'personnelD_0 DL, 6 LB, 5 DB'),\n",
              " (0.03097080652264208, 'personnelD_2 DL, 4 LB, 5 DB'),\n",
              " (0.026403974845923474, 'offenseFormation_SHOTGUN'),\n",
              " (0.023668492467245034, 'personnelD_3 DL, 3 LB, 5 DB'),\n",
              " (0.02219586620032882, 'personnelD_4 DL, 1 LB, 6 DB'),\n",
              " (0.021862565853977965, 'offenseFormation_EMPTY'),\n",
              " (0.021474011515312065, 'personnelD_3 DL, 2 LB, 6 DB'),\n",
              " (0.020649455165868934, 'offenseFormation_WILDCAT'),\n",
              " (0.020280846882044786, 'personnelD_4 DL, 2 LB, 5 DB'),\n",
              " (0.017456020493570677, 'offenseFormation_I_FORM'),\n",
              " (0.013617086270676171, 'personnelO_1 RB, 0 TE, 4 WR'),\n",
              " (0.013031965747524871, 'personnelO_2 RB, 1 TE, 2 WR'),\n",
              " (0.013031199967967316, 'personnelO_2 QB, 1 RB, 1 TE, 2 WR'),\n",
              " (0.01249586925495564, 'offenseFormation_PISTOL'),\n",
              " (0.011840539124466809, 'personnelO_1 RB, 1 TE, 3 WR'),\n",
              " (0.011404911171457621, 'personnelD_1 DL, 5 LB, 5 DB'),\n",
              " (0.010787138876674722, 'personnelD_1 DL, 4 LB, 6 DB'),\n",
              " (0.01012509317971924, 'personnelD_2 DL, 3 LB, 6 DB'),\n",
              " (0.009960703406803065, 'personnelD_4 DL, 3 LB, 4 DB'),\n",
              " (0.009877662087909965, 'offenseFormation_SINGLEBACK'),\n",
              " (0.009637172454443269, 'personnelO_1 RB, 2 TE, 2 WR'),\n",
              " (0.004465292599933391, 'isDefensivePI'),\n",
              " (0.0019900215210033718, 'personnelD_3 DL, 4 LB, 4 DB'),\n",
              " (0.0015347248225225222, 'personnelD_1 DL, 3 LB, 7 DB'),\n",
              " (0.0006844894794088134, 'personnelO_0 RB, 0 TE, 5 WR'),\n",
              " (0.000602382946560222, 'personnelO_1 RB, 3 TE, 1 WR'),\n",
              " (0.0005950502217803677, 'personnelO_0 RB, 1 TE, 4 WR'),\n",
              " (0.0005030936582979679, 'offenseFormation_JUMBO'),\n",
              " (0.00036964617440470216, 'personnelO_2 RB, 0 TE, 3 WR'),\n",
              " (0.00024736367051469206, 'personnelD_3 DL, 1 LB, 7 DB'),\n",
              " (0.00010715682051894031, 'personnelD_5 DL, 2 LB, 4 DB'),\n",
              " (8.961350905507518e-05, 'personnelO_2 RB, 2 TE, 1 WR'),\n",
              " (7.749780001043787e-05, 'personnelD_2 DL, 2 LB, 7 DB'),\n",
              " (4.566698886233878e-05, 'personnelO_6 OL, 1 RB, 1 TE, 2 WR'),\n",
              " (2.9953311777241464e-05, 'personnelO_6 OL, 1 RB, 2 TE, 1 WR'),\n",
              " (2.7308164347905693e-05, 'personnelD_3 DL, 5 LB, 3 DB'),\n",
              " (2.3963394567443884e-05, 'personnelD_0 DL, 5 LB, 6 DB'),\n",
              " (2.2655009110790023e-05, 'personnelD_0 DL, 4 LB, 7 DB'),\n",
              " (2.112173329106733e-05, 'personnelD_4 DL, 4 LB, 3 DB'),\n",
              " (8.097717836048292e-06, 'personnelO_3 RB, 1 TE, 1 WR'),\n",
              " (0.0, 'personnelO_6 OL, 2 RB, 2 TE, 0 WR'),\n",
              " (0.0, 'personnelO_6 OL, 2 RB, 1 TE, 0 WR,1 DL'),\n",
              " (0.0, 'personnelD_4 DL, 5 LB, 2 DB')]"
            ]
          },
          "metadata": {
            "tags": []
          },
          "execution_count": 43
        }
      ]
    },
    {
      "cell_type": "markdown",
      "metadata": {
        "id": "3yzvp8tC83YW"
      },
      "source": [
        "**Cacth Predictions vs Defensive formations**"
      ]
    },
    {
      "cell_type": "markdown",
      "metadata": {
        "id": "jfdFTllShPpg"
      },
      "source": [
        "Logistic Regression"
      ]
    },
    {
      "cell_type": "code",
      "metadata": {
        "id": "0zpZBZgt87Cu"
      },
      "source": [
        "from sklearn.model_selection import train_test_split\n",
        "y = df[\"passResult_C\"]\n",
        "X = defensive_features\n",
        "\n",
        "X_train, X_test, y_train, y_test = train_test_split(X, y, random_state=1, stratify=y)"
      ],
      "execution_count": 44,
      "outputs": []
    },
    {
      "cell_type": "code",
      "metadata": {
        "id": "zfm-AJSv9AfA"
      },
      "source": [
        "from sklearn.preprocessing import MinMaxScaler\n",
        "X_scaler = MinMaxScaler().fit(X_train)\n",
        "\n",
        "X_train_scaled = X_scaler.transform(X_train)\n",
        "X_test_scaled = X_scaler.transform(X_test)"
      ],
      "execution_count": 45,
      "outputs": []
    },
    {
      "cell_type": "code",
      "metadata": {
        "id": "u4Kxk62R9Ja4",
        "colab": {
          "base_uri": "https://localhost:8080/"
        },
        "outputId": "995cee40-83f2-42ac-c06d-95133e7a8797"
      },
      "source": [
        "from sklearn.linear_model import LogisticRegression\n",
        "model = LogisticRegression(max_iter=1000)\n",
        "model.fit(X_train_scaled, y_train)"
      ],
      "execution_count": 46,
      "outputs": [
        {
          "output_type": "execute_result",
          "data": {
            "text/plain": [
              "LogisticRegression(C=1.0, class_weight=None, dual=False, fit_intercept=True,\n",
              "                   intercept_scaling=1, l1_ratio=None, max_iter=1000,\n",
              "                   multi_class='auto', n_jobs=None, penalty='l2',\n",
              "                   random_state=None, solver='lbfgs', tol=0.0001, verbose=0,\n",
              "                   warm_start=False)"
            ]
          },
          "metadata": {
            "tags": []
          },
          "execution_count": 46
        }
      ]
    },
    {
      "cell_type": "code",
      "metadata": {
        "id": "5pZ0impo9K9j",
        "colab": {
          "base_uri": "https://localhost:8080/"
        },
        "outputId": "878e186e-b98c-4833-ac22-d495e39c64e2"
      },
      "source": [
        "print(f\"Training Data Score: {model.score(X_train_scaled, y_train)}\")\n",
        "print(f\"Testing Data Score: {model.score(X_test_scaled, y_test)}\")"
      ],
      "execution_count": 47,
      "outputs": [
        {
          "output_type": "stream",
          "text": [
            "Training Data Score: 0.6863975648062693\n",
            "Testing Data Score: 0.6853466491152227\n"
          ],
          "name": "stdout"
        }
      ]
    },
    {
      "cell_type": "markdown",
      "metadata": {
        "id": "-o4jJ7CthS-N"
      },
      "source": [
        "Random Forest Classifier"
      ]
    },
    {
      "cell_type": "code",
      "metadata": {
        "id": "Ts-hVuCu9MhZ",
        "colab": {
          "base_uri": "https://localhost:8080/"
        },
        "outputId": "9c808afd-656b-40e6-930a-6dcc1c9cce55"
      },
      "source": [
        "from sklearn.ensemble import RandomForestClassifier\n",
        "rf = RandomForestClassifier(n_estimators=100)\n",
        "rf = rf.fit(X_train, y_train)\n",
        "rf.score(X_test, y_test)"
      ],
      "execution_count": 48,
      "outputs": [
        {
          "output_type": "execute_result",
          "data": {
            "text/plain": [
              "0.6853466491152227"
            ]
          },
          "metadata": {
            "tags": []
          },
          "execution_count": 48
        }
      ]
    },
    {
      "cell_type": "code",
      "metadata": {
        "id": "9X52Sdz4hVXX",
        "colab": {
          "base_uri": "https://localhost:8080/"
        },
        "outputId": "4252741b-6507-4374-86a7-cae9e813087f"
      },
      "source": [
        "sorted(zip(rf.feature_importances_, defensive_features), reverse=True)"
      ],
      "execution_count": 49,
      "outputs": [
        {
          "output_type": "execute_result",
          "data": {
            "text/plain": [
              "[(0.1842372627919541, 'personnelD_4 DL, 1 LB, 6 DB'),\n",
              " (0.16848704442226212, 'personnelD_1 DL, 3 LB, 7 DB'),\n",
              " (0.1521402112708025, 'personnelD_2 DL, 2 LB, 7 DB'),\n",
              " (0.06434848967506446, 'personnelD_2 DL, 3 LB, 6 DB'),\n",
              " (0.05541927578519531, 'personnelD_0 DL, 6 LB, 5 DB'),\n",
              " (0.053595884298919275, 'personnelD_0 DL, 5 LB, 6 DB'),\n",
              " (0.050032522560008307, 'personnelD_4 DL, 3 LB, 4 DB'),\n",
              " (0.03956257506221424, 'personnelD_4 DL, 5 LB, 2 DB'),\n",
              " (0.03716086304808634, 'personnelD_3 DL, 4 LB, 4 DB'),\n",
              " (0.036477313382731004, 'personnelD_3 DL, 3 LB, 5 DB'),\n",
              " (0.03100240526197016, 'personnelD_4 DL, 4 LB, 3 DB'),\n",
              " (0.02878628031815073, 'personnelD_1 DL, 5 LB, 5 DB'),\n",
              " (0.019840077196773498, 'personnelD_5 DL, 2 LB, 4 DB'),\n",
              " (0.01670151236285351, 'personnelD_1 DL, 4 LB, 6 DB'),\n",
              " (0.014219774976207076, 'personnelD_4 DL, 2 LB, 5 DB'),\n",
              " (0.013866538955064251, 'personnelD_2 DL, 4 LB, 5 DB'),\n",
              " (0.01166988655926465, 'personnelD_3 DL, 2 LB, 6 DB'),\n",
              " (0.010318712299695236, 'personnelD_3 DL, 5 LB, 3 DB'),\n",
              " (0.009595714132793245, 'personnelD_0 DL, 4 LB, 7 DB'),\n",
              " (0.0025376556399898764, 'personnelD_3 DL, 1 LB, 7 DB')]"
            ]
          },
          "metadata": {
            "tags": []
          },
          "execution_count": 49
        }
      ]
    },
    {
      "cell_type": "markdown",
      "metadata": {
        "id": "eXDLS1IL_MX-"
      },
      "source": [
        "**Incomplete Passes vs Offense formations**"
      ]
    },
    {
      "cell_type": "markdown",
      "metadata": {
        "id": "Q1I92mALhqHz"
      },
      "source": [
        "Logistic Regression"
      ]
    },
    {
      "cell_type": "code",
      "metadata": {
        "id": "8EknKcv6_TNu"
      },
      "source": [
        "from sklearn.model_selection import train_test_split\n",
        "y = df[\"passResult_I\"]\n",
        "X = offensive_features\n",
        "\n",
        "X_train, X_test, y_train, y_test = train_test_split(X, y, random_state=1, stratify=y)"
      ],
      "execution_count": 50,
      "outputs": []
    },
    {
      "cell_type": "code",
      "metadata": {
        "id": "qxnj3bBG_YYb"
      },
      "source": [
        "from sklearn.preprocessing import MinMaxScaler\n",
        "X_scaler = MinMaxScaler().fit(X_train)\n",
        "\n",
        "X_train_scaled = X_scaler.transform(X_train)\n",
        "X_test_scaled = X_scaler.transform(X_test)"
      ],
      "execution_count": 51,
      "outputs": []
    },
    {
      "cell_type": "code",
      "metadata": {
        "id": "UHfMD_e0_aDd",
        "colab": {
          "base_uri": "https://localhost:8080/"
        },
        "outputId": "e4f8f23b-583d-494e-ce29-d5162e59682c"
      },
      "source": [
        "from sklearn.linear_model import LogisticRegression\n",
        "model = LogisticRegression(max_iter=1000)\n",
        "model.fit(X_train_scaled, y_train)"
      ],
      "execution_count": 52,
      "outputs": [
        {
          "output_type": "execute_result",
          "data": {
            "text/plain": [
              "LogisticRegression(C=1.0, class_weight=None, dual=False, fit_intercept=True,\n",
              "                   intercept_scaling=1, l1_ratio=None, max_iter=1000,\n",
              "                   multi_class='auto', n_jobs=None, penalty='l2',\n",
              "                   random_state=None, solver='lbfgs', tol=0.0001, verbose=0,\n",
              "                   warm_start=False)"
            ]
          },
          "metadata": {
            "tags": []
          },
          "execution_count": 52
        }
      ]
    },
    {
      "cell_type": "code",
      "metadata": {
        "id": "BRUP9lx__bUE",
        "colab": {
          "base_uri": "https://localhost:8080/"
        },
        "outputId": "5d03acf3-ccd9-455d-d4b6-f9c06e6a014e"
      },
      "source": [
        "print(f\"Training Data Score: {model.score(X_train_scaled, y_train)}\")\n",
        "print(f\"Testing Data Score: {model.score(X_test_scaled, y_test)}\")"
      ],
      "execution_count": 53,
      "outputs": [
        {
          "output_type": "stream",
          "text": [
            "Training Data Score: 0.7736824209452567\n",
            "Testing Data Score: 0.7738292425839483\n"
          ],
          "name": "stdout"
        }
      ]
    },
    {
      "cell_type": "markdown",
      "metadata": {
        "id": "nNQQpsMGhvoD"
      },
      "source": [
        "Random Forest Classifier"
      ]
    },
    {
      "cell_type": "code",
      "metadata": {
        "id": "9b8ysba6hu1h",
        "colab": {
          "base_uri": "https://localhost:8080/"
        },
        "outputId": "271c55b8-761e-4340-e27a-6359dd80b74c"
      },
      "source": [
        "from sklearn.ensemble import RandomForestClassifier\n",
        "rf = RandomForestClassifier(n_estimators=100)\n",
        "rf = rf.fit(X_train, y_train)\n",
        "rf.score(X_test, y_test)"
      ],
      "execution_count": 54,
      "outputs": [
        {
          "output_type": "execute_result",
          "data": {
            "text/plain": [
              "0.7765931092771687"
            ]
          },
          "metadata": {
            "tags": []
          },
          "execution_count": 54
        }
      ]
    },
    {
      "cell_type": "code",
      "metadata": {
        "id": "dniIxKvehu6J",
        "colab": {
          "base_uri": "https://localhost:8080/"
        },
        "outputId": "bbece018-b1ce-4c6e-adc8-471206cfeb42"
      },
      "source": [
        "sorted(zip(rf.feature_importances_, offensive_features), reverse=True)"
      ],
      "execution_count": 55,
      "outputs": [
        {
          "output_type": "execute_result",
          "data": {
            "text/plain": [
              "[(0.13031664216048855, 'offenseFormation_SHOTGUN'),\n",
              " (0.12177153321622355, 'offenseFormation_SINGLEBACK'),\n",
              " (0.10822883881679746, 'personnelO_1 RB, 1 TE, 3 WR'),\n",
              " (0.09956355837314497, 'personnelO_1 RB, 0 TE, 4 WR'),\n",
              " (0.09284004627483664, 'offenseFormation_EMPTY'),\n",
              " (0.09156780771580575, 'personnelO_2 RB, 0 TE, 3 WR'),\n",
              " (0.06445590667016114, 'personnelO_0 RB, 1 TE, 4 WR'),\n",
              " (0.04971842109271029, 'personnelO_1 RB, 2 TE, 2 WR'),\n",
              " (0.04113588574576891, 'offenseFormation_I_FORM'),\n",
              " (0.04108203843744499, 'personnelO_2 RB, 1 TE, 2 WR'),\n",
              " (0.04078446536736185, 'offenseFormation_PISTOL'),\n",
              " (0.026720392703385693, 'personnelO_6 OL, 2 RB, 2 TE, 0 WR'),\n",
              " (0.02548130045419717, 'personnelO_1 RB, 3 TE, 1 WR'),\n",
              " (0.014889647695617729, 'personnelO_2 QB, 1 RB, 1 TE, 2 WR'),\n",
              " (0.011035702040815313, 'personnelO_2 RB, 2 TE, 1 WR'),\n",
              " (0.009746872191214331, 'personnelO_3 RB, 1 TE, 1 WR'),\n",
              " (0.00852062925163732, 'personnelO_6 OL, 2 RB, 1 TE, 0 WR,1 DL'),\n",
              " (0.005749990023647565, 'offenseFormation_JUMBO'),\n",
              " (0.005528784997350203, 'offenseFormation_WILDCAT'),\n",
              " (0.005258127476773472, 'personnelO_6 OL, 1 RB, 1 TE, 2 WR'),\n",
              " (0.004116491505931608, 'personnelO_0 RB, 0 TE, 5 WR'),\n",
              " (0.0014869177886855632, 'personnelO_6 OL, 1 RB, 2 TE, 1 WR')]"
            ]
          },
          "metadata": {
            "tags": []
          },
          "execution_count": 55
        }
      ]
    },
    {
      "cell_type": "markdown",
      "metadata": {
        "id": "IEYyhRYONUAL"
      },
      "source": [
        "**Exta DB's and Incomplete Catches**"
      ]
    },
    {
      "cell_type": "markdown",
      "metadata": {
        "id": "AajG7aMniMvO"
      },
      "source": [
        "Logistic Regression"
      ]
    },
    {
      "cell_type": "code",
      "metadata": {
        "id": "7LV2ZmxVNase"
      },
      "source": [
        "moreDB_features = df[['personnelD_0 DL, 4 LB, 7 DB',\t'personnelD_0 DL, 5 LB, 6 DB',\t'personnelD_0 DL, 6 LB, 5 DB',\t'personnelD_1 DL, 3 LB, 7 DB',\t\n",
        "                      'personnelD_1 DL, 4 LB, 6 DB', 'personnelD_1 DL, 5 LB, 5 DB',\t'personnelD_2 DL, 2 LB, 7 DB', 'personnelD_2 DL, 4 LB, 5 DB',\t\n",
        "                      'personnelD_3 DL, 1 LB, 7 DB', 'personnelD_3 DL, 2 LB, 6 DB', 'personnelD_4 DL, 1 LB, 6 DB']]"
      ],
      "execution_count": 56,
      "outputs": []
    },
    {
      "cell_type": "code",
      "metadata": {
        "id": "zMR06WsHNcnU"
      },
      "source": [
        "from sklearn.model_selection import train_test_split\n",
        "y = df[\"passResult_I\"]\n",
        "X = moreDB_features\n",
        "\n",
        "X_train, X_test, y_train, y_test = train_test_split(X, y, random_state=1, stratify=y)"
      ],
      "execution_count": 57,
      "outputs": []
    },
    {
      "cell_type": "code",
      "metadata": {
        "id": "Dqb9QcRaOJHy"
      },
      "source": [
        "from sklearn.preprocessing import MinMaxScaler\n",
        "X_scaler = MinMaxScaler().fit(X_train)\n",
        "\n",
        "X_train_scaled = X_scaler.transform(X_train)\n",
        "X_test_scaled = X_scaler.transform(X_test)"
      ],
      "execution_count": 58,
      "outputs": []
    },
    {
      "cell_type": "code",
      "metadata": {
        "id": "egJwqzh0OKtk",
        "colab": {
          "base_uri": "https://localhost:8080/"
        },
        "outputId": "1cce8eba-6b2e-42af-bba6-9e10e380b476"
      },
      "source": [
        "from sklearn.linear_model import LogisticRegression\n",
        "model = LogisticRegression(max_iter=1000)\n",
        "model.fit(X_train_scaled, y_train)"
      ],
      "execution_count": 59,
      "outputs": [
        {
          "output_type": "execute_result",
          "data": {
            "text/plain": [
              "LogisticRegression(C=1.0, class_weight=None, dual=False, fit_intercept=True,\n",
              "                   intercept_scaling=1, l1_ratio=None, max_iter=1000,\n",
              "                   multi_class='auto', n_jobs=None, penalty='l2',\n",
              "                   random_state=None, solver='lbfgs', tol=0.0001, verbose=0,\n",
              "                   warm_start=False)"
            ]
          },
          "metadata": {
            "tags": []
          },
          "execution_count": 59
        }
      ]
    },
    {
      "cell_type": "code",
      "metadata": {
        "id": "x27eA-AcOMIC",
        "colab": {
          "base_uri": "https://localhost:8080/"
        },
        "outputId": "b9e91949-5e04-4ebf-aadb-f11795209a67"
      },
      "source": [
        "print(f\"Training Data Score: {model.score(X_train_scaled, y_train)}\")\n",
        "print(f\"Testing Data Score: {model.score(X_test_scaled, y_test)}\")"
      ],
      "execution_count": 60,
      "outputs": [
        {
          "output_type": "stream",
          "text": [
            "Training Data Score: 0.7872427583750263\n",
            "Testing Data Score: 0.7872891276576108\n"
          ],
          "name": "stdout"
        }
      ]
    },
    {
      "cell_type": "markdown",
      "metadata": {
        "id": "HMEO338ViSfW"
      },
      "source": [
        "Random Forest Classifier"
      ]
    },
    {
      "cell_type": "code",
      "metadata": {
        "id": "RBKsCXXviQ1W",
        "colab": {
          "base_uri": "https://localhost:8080/"
        },
        "outputId": "3a8af4fd-7863-47d8-e704-162f5dd69390"
      },
      "source": [
        "from sklearn.ensemble import RandomForestClassifier\n",
        "rf = RandomForestClassifier(n_estimators=100)\n",
        "rf = rf.fit(X_train, y_train)\n",
        "rf.score(X_test, y_test)"
      ],
      "execution_count": 61,
      "outputs": [
        {
          "output_type": "execute_result",
          "data": {
            "text/plain": [
              "0.7872891276576108"
            ]
          },
          "metadata": {
            "tags": []
          },
          "execution_count": 61
        }
      ]
    },
    {
      "cell_type": "code",
      "metadata": {
        "id": "_GKk_zaGiQ3_",
        "colab": {
          "base_uri": "https://localhost:8080/"
        },
        "outputId": "f5b9b623-3503-48d3-e3eb-927aac41ea5f"
      },
      "source": [
        "sorted(zip(rf.feature_importances_, moreDB_features), reverse=True)"
      ],
      "execution_count": 62,
      "outputs": [
        {
          "output_type": "execute_result",
          "data": {
            "text/plain": [
              "[(0.3060838868595242, 'personnelD_1 DL, 3 LB, 7 DB'),\n",
              " (0.27887434483118756, 'personnelD_2 DL, 2 LB, 7 DB'),\n",
              " (0.24232789123788714, 'personnelD_4 DL, 1 LB, 6 DB'),\n",
              " (0.09935220178782751, 'personnelD_0 DL, 5 LB, 6 DB'),\n",
              " (0.044684821853001766, 'personnelD_2 DL, 4 LB, 5 DB'),\n",
              " (0.0087929107318632, 'personnelD_1 DL, 4 LB, 6 DB'),\n",
              " (0.007367208040295456, 'personnelD_0 DL, 6 LB, 5 DB'),\n",
              " (0.00651122202300255, 'personnelD_3 DL, 1 LB, 7 DB'),\n",
              " (0.005432967431615581, 'personnelD_0 DL, 4 LB, 7 DB'),\n",
              " (0.0004724111596411282, 'personnelD_3 DL, 2 LB, 6 DB'),\n",
              " (0.0001001340441539179, 'personnelD_1 DL, 5 LB, 5 DB')]"
            ]
          },
          "metadata": {
            "tags": []
          },
          "execution_count": 62
        }
      ]
    },
    {
      "cell_type": "markdown",
      "metadata": {
        "id": "31Y86enYOUED"
      },
      "source": [
        "**Extra DB and Interceptions**"
      ]
    },
    {
      "cell_type": "markdown",
      "metadata": {
        "id": "6xjxy4gpifcq"
      },
      "source": [
        "Logistic Regression"
      ]
    },
    {
      "cell_type": "code",
      "metadata": {
        "id": "tu9VzoGKON0_"
      },
      "source": [
        "from sklearn.model_selection import train_test_split\n",
        "y = df[\"passResult_IN\"]\n",
        "X = moreDB_features\n",
        "\n",
        "X_train, X_test, y_train, y_test = train_test_split(X, y, random_state=1, stratify=y)"
      ],
      "execution_count": 63,
      "outputs": []
    },
    {
      "cell_type": "code",
      "metadata": {
        "id": "NSN8BvQROar6"
      },
      "source": [
        "from sklearn.preprocessing import MinMaxScaler\n",
        "X_scaler = MinMaxScaler().fit(X_train)\n",
        "\n",
        "X_train_scaled = X_scaler.transform(X_train)\n",
        "X_test_scaled = X_scaler.transform(X_test)"
      ],
      "execution_count": 64,
      "outputs": []
    },
    {
      "cell_type": "code",
      "metadata": {
        "id": "x-BpenwjOcU6",
        "colab": {
          "base_uri": "https://localhost:8080/"
        },
        "outputId": "d99c1364-1b9d-4c07-bd26-efbce3eb52c6"
      },
      "source": [
        "from sklearn.linear_model import LogisticRegression\n",
        "model = LogisticRegression(max_iter=1000)\n",
        "model.fit(X_train_scaled, y_train)"
      ],
      "execution_count": 89,
      "outputs": [
        {
          "output_type": "execute_result",
          "data": {
            "text/plain": [
              "LogisticRegression(C=1.0, class_weight=None, dual=False, fit_intercept=True,\n",
              "                   intercept_scaling=1, l1_ratio=None, max_iter=1000,\n",
              "                   multi_class='auto', n_jobs=None, penalty='l2',\n",
              "                   random_state=None, solver='lbfgs', tol=0.0001, verbose=0,\n",
              "                   warm_start=False)"
            ]
          },
          "metadata": {
            "tags": []
          },
          "execution_count": 89
        }
      ]
    },
    {
      "cell_type": "code",
      "metadata": {
        "id": "reyot3v-Odif",
        "colab": {
          "base_uri": "https://localhost:8080/"
        },
        "outputId": "06f6bff5-843f-4fd9-e77e-5b84d05cf2fe"
      },
      "source": [
        "print(f\"Training Data Score: {model.score(X_train_scaled, y_train)}\")\n",
        "print(f\"Testing Data Score: {model.score(X_test_scaled, y_test)}\")"
      ],
      "execution_count": 90,
      "outputs": [
        {
          "output_type": "stream",
          "text": [
            "Training Data Score: 0.9533475818072894\n",
            "Testing Data Score: 0.953349427554148\n"
          ],
          "name": "stdout"
        }
      ]
    },
    {
      "cell_type": "code",
      "metadata": {
        "colab": {
          "base_uri": "https://localhost:8080/"
        },
        "id": "lPboFMCSHzGB",
        "outputId": "370a6dc0-4866-4de6-8604-09ad2733ae77"
      },
      "source": [
        "import joblib\n",
        "filename = 'model_db_&_intercepts.sav'\n",
        "joblib.dump(model, filename) "
      ],
      "execution_count": 97,
      "outputs": [
        {
          "output_type": "execute_result",
          "data": {
            "text/plain": [
              "['model_db_&_intercepts.sav']"
            ]
          },
          "metadata": {
            "tags": []
          },
          "execution_count": 97
        }
      ]
    },
    {
      "cell_type": "markdown",
      "metadata": {
        "id": "c3URIh7FijLP"
      },
      "source": [
        "Random Forest Classifier"
      ]
    },
    {
      "cell_type": "code",
      "metadata": {
        "id": "YsTR6IHIiiZN",
        "colab": {
          "base_uri": "https://localhost:8080/"
        },
        "outputId": "8363d8c3-fcf0-47ea-c4b0-1a6e683364c5"
      },
      "source": [
        "from sklearn.ensemble import RandomForestClassifier\n",
        "rf = RandomForestClassifier(n_estimators=100)\n",
        "rf = rf.fit(X_train, y_train)\n",
        "rf.score(X_test, y_test)\n",
        "\n"
      ],
      "execution_count": 67,
      "outputs": [
        {
          "output_type": "execute_result",
          "data": {
            "text/plain": [
              "0.9620539075440445"
            ]
          },
          "metadata": {
            "tags": []
          },
          "execution_count": 67
        }
      ]
    },
    {
      "cell_type": "code",
      "metadata": {
        "id": "BKT5MyIziidi",
        "colab": {
          "base_uri": "https://localhost:8080/"
        },
        "outputId": "cab7b456-e74c-41ef-f234-92febe78f3cc"
      },
      "source": [
        "sorted(zip(rf.feature_importances_, moreDB_features), reverse=True)"
      ],
      "execution_count": 68,
      "outputs": [
        {
          "output_type": "execute_result",
          "data": {
            "text/plain": [
              "[(0.9109520502668937, 'personnelD_0 DL, 6 LB, 5 DB'),\n",
              " (0.02821577839568794, 'personnelD_1 DL, 4 LB, 6 DB'),\n",
              " (0.014698367903668208, 'personnelD_1 DL, 5 LB, 5 DB'),\n",
              " (0.013543042258718654, 'personnelD_4 DL, 1 LB, 6 DB'),\n",
              " (0.012697428808308153, 'personnelD_3 DL, 2 LB, 6 DB'),\n",
              " (0.007964733898087592, 'personnelD_2 DL, 4 LB, 5 DB'),\n",
              " (0.0038954029206606654, 'personnelD_1 DL, 3 LB, 7 DB'),\n",
              " (0.003331215225925742, 'personnelD_2 DL, 2 LB, 7 DB'),\n",
              " (0.00272014895853972, 'personnelD_3 DL, 1 LB, 7 DB'),\n",
              " (0.0011591787784307054, 'personnelD_0 DL, 5 LB, 6 DB'),\n",
              " (0.0008226525850789816, 'personnelD_0 DL, 4 LB, 7 DB')]"
            ]
          },
          "metadata": {
            "tags": []
          },
          "execution_count": 68
        }
      ]
    },
    {
      "cell_type": "markdown",
      "metadata": {
        "id": "Ft_glq_6OgSf"
      },
      "source": [
        "**Extra DB and Sacks**"
      ]
    },
    {
      "cell_type": "markdown",
      "metadata": {
        "id": "bJCEIJfzixv7"
      },
      "source": [
        "Logistic Regression"
      ]
    },
    {
      "cell_type": "code",
      "metadata": {
        "id": "FwmEhpekOlTl"
      },
      "source": [
        "from sklearn.model_selection import train_test_split\n",
        "y = df[\"passResult_IN\"]\n",
        "X = moreDB_features\n",
        "\n",
        "X_train, X_test, y_train, y_test = train_test_split(X, y, random_state=1, stratify=y)"
      ],
      "execution_count": 69,
      "outputs": []
    },
    {
      "cell_type": "code",
      "metadata": {
        "id": "l8-zTEtyOmtX"
      },
      "source": [
        "from sklearn.preprocessing import MinMaxScaler\n",
        "X_scaler = MinMaxScaler().fit(X_train)\n",
        "\n",
        "X_train_scaled = X_scaler.transform(X_train)\n",
        "X_test_scaled = X_scaler.transform(X_test)"
      ],
      "execution_count": 70,
      "outputs": []
    },
    {
      "cell_type": "code",
      "metadata": {
        "id": "K0KTAiGiOn8k",
        "colab": {
          "base_uri": "https://localhost:8080/"
        },
        "outputId": "0192f863-a85b-45d4-eb37-edbdca5de54d"
      },
      "source": [
        "from sklearn.linear_model import LogisticRegression\n",
        "model = LogisticRegression(max_iter=1000)\n",
        "model.fit(X_train_scaled, y_train)"
      ],
      "execution_count": 71,
      "outputs": [
        {
          "output_type": "execute_result",
          "data": {
            "text/plain": [
              "LogisticRegression(C=1.0, class_weight=None, dual=False, fit_intercept=True,\n",
              "                   intercept_scaling=1, l1_ratio=None, max_iter=1000,\n",
              "                   multi_class='auto', n_jobs=None, penalty='l2',\n",
              "                   random_state=None, solver='lbfgs', tol=0.0001, verbose=0,\n",
              "                   warm_start=False)"
            ]
          },
          "metadata": {
            "tags": []
          },
          "execution_count": 71
        }
      ]
    },
    {
      "cell_type": "code",
      "metadata": {
        "id": "KXkPf8cvOpYN",
        "colab": {
          "base_uri": "https://localhost:8080/"
        },
        "outputId": "bd2a2c7a-3718-4d53-b881-2f9a02bffe16"
      },
      "source": [
        "print(f\"Training Data Score: {model.score(X_train_scaled, y_train)}\")\n",
        "print(f\"Testing Data Score: {model.score(X_test_scaled, y_test)}\")"
      ],
      "execution_count": 72,
      "outputs": [
        {
          "output_type": "stream",
          "text": [
            "Training Data Score: 0.9621136315797996\n",
            "Testing Data Score: 0.9620539075440445\n"
          ],
          "name": "stdout"
        }
      ]
    },
    {
      "cell_type": "markdown",
      "metadata": {
        "id": "mr1yP_Uri2dx"
      },
      "source": [
        "Random Forest"
      ]
    },
    {
      "cell_type": "code",
      "metadata": {
        "id": "obrqnAJKi0z8",
        "colab": {
          "base_uri": "https://localhost:8080/"
        },
        "outputId": "f68e159b-811c-4a86-a3d4-33411deac5e1"
      },
      "source": [
        "from sklearn.ensemble import RandomForestClassifier\n",
        "rf = RandomForestClassifier(n_estimators=100)\n",
        "rf = rf.fit(X_train, y_train)\n",
        "rf.score(X_test, y_test)\n"
      ],
      "execution_count": 73,
      "outputs": [
        {
          "output_type": "execute_result",
          "data": {
            "text/plain": [
              "0.9620539075440445"
            ]
          },
          "metadata": {
            "tags": []
          },
          "execution_count": 73
        }
      ]
    },
    {
      "cell_type": "code",
      "metadata": {
        "id": "bpS-Z672i02s",
        "colab": {
          "base_uri": "https://localhost:8080/"
        },
        "outputId": "994de142-0e42-4b03-8cce-2ab7d8f63d1e"
      },
      "source": [
        "sorted(zip(rf.feature_importances_, moreDB_features), reverse=True)"
      ],
      "execution_count": 74,
      "outputs": [
        {
          "output_type": "execute_result",
          "data": {
            "text/plain": [
              "[(0.9103162809560156, 'personnelD_0 DL, 6 LB, 5 DB'),\n",
              " (0.02870673645199447, 'personnelD_1 DL, 4 LB, 6 DB'),\n",
              " (0.01493026843520829, 'personnelD_1 DL, 5 LB, 5 DB'),\n",
              " (0.013740527186688663, 'personnelD_4 DL, 1 LB, 6 DB'),\n",
              " (0.012817012726521668, 'personnelD_3 DL, 2 LB, 6 DB'),\n",
              " (0.007880834254393228, 'personnelD_2 DL, 4 LB, 5 DB'),\n",
              " (0.0037926742746472054, 'personnelD_1 DL, 3 LB, 7 DB'),\n",
              " (0.003264111973844091, 'personnelD_2 DL, 2 LB, 7 DB'),\n",
              " (0.0026238203063475205, 'personnelD_3 DL, 1 LB, 7 DB'),\n",
              " (0.0011165237445912575, 'personnelD_0 DL, 5 LB, 6 DB'),\n",
              " (0.0008112096897479774, 'personnelD_0 DL, 4 LB, 7 DB')]"
            ]
          },
          "metadata": {
            "tags": []
          },
          "execution_count": 74
        }
      ]
    },
    {
      "cell_type": "markdown",
      "metadata": {
        "id": "XNcv8llHO1sx"
      },
      "source": [
        "**Extra DB's and Catches**"
      ]
    },
    {
      "cell_type": "markdown",
      "metadata": {
        "id": "fvqISIDQjB0I"
      },
      "source": [
        "Logistic Regression"
      ]
    },
    {
      "cell_type": "code",
      "metadata": {
        "id": "mcybvzx3O6eQ"
      },
      "source": [
        "from sklearn.model_selection import train_test_split\n",
        "y = df[\"passResult_C\"]\n",
        "X = moreDB_features\n",
        "\n",
        "X_train, X_test, y_train, y_test = train_test_split(X, y, random_state=1, stratify=y)"
      ],
      "execution_count": 75,
      "outputs": []
    },
    {
      "cell_type": "code",
      "metadata": {
        "id": "tV9lkiYvO9Og"
      },
      "source": [
        "from sklearn.preprocessing import MinMaxScaler\n",
        "X_scaler = MinMaxScaler().fit(X_train)\n",
        "\n",
        "X_train_scaled = X_scaler.transform(X_train)\n",
        "X_test_scaled = X_scaler.transform(X_test)"
      ],
      "execution_count": 76,
      "outputs": []
    },
    {
      "cell_type": "code",
      "metadata": {
        "id": "mwV37X-1O-wA",
        "colab": {
          "base_uri": "https://localhost:8080/"
        },
        "outputId": "1e9232b7-c4b7-452a-96a1-ffdecd7de801"
      },
      "source": [
        "from sklearn.linear_model import LogisticRegression\n",
        "model = LogisticRegression(max_iter=1000)\n",
        "model.fit(X_train_scaled, y_train)"
      ],
      "execution_count": 77,
      "outputs": [
        {
          "output_type": "execute_result",
          "data": {
            "text/plain": [
              "LogisticRegression(C=1.0, class_weight=None, dual=False, fit_intercept=True,\n",
              "                   intercept_scaling=1, l1_ratio=None, max_iter=1000,\n",
              "                   multi_class='auto', n_jobs=None, penalty='l2',\n",
              "                   random_state=None, solver='lbfgs', tol=0.0001, verbose=0,\n",
              "                   warm_start=False)"
            ]
          },
          "metadata": {
            "tags": []
          },
          "execution_count": 77
        }
      ]
    },
    {
      "cell_type": "code",
      "metadata": {
        "id": "Hvh8H8XvPAIm",
        "colab": {
          "base_uri": "https://localhost:8080/"
        },
        "outputId": "55ad86f6-7012-49eb-c5c0-1de1f6ae5292"
      },
      "source": [
        "print(f\"Training Data Score: {model.score(X_train_scaled, y_train)}\")\n",
        "print(f\"Testing Data Score: {model.score(X_test_scaled, y_test)}\")"
      ],
      "execution_count": 78,
      "outputs": [
        {
          "output_type": "stream",
          "text": [
            "Training Data Score: 0.6844157316105633\n",
            "Testing Data Score: 0.6834814034031019\n"
          ],
          "name": "stdout"
        }
      ]
    },
    {
      "cell_type": "markdown",
      "metadata": {
        "id": "bAihzaMRjHSm"
      },
      "source": [
        "Random Forest Classifier"
      ]
    },
    {
      "cell_type": "code",
      "metadata": {
        "id": "deSkW5zYjFvz",
        "colab": {
          "base_uri": "https://localhost:8080/"
        },
        "outputId": "98fc0514-6743-4661-faf6-905bb722f369"
      },
      "source": [
        "from sklearn.ensemble import RandomForestClassifier\n",
        "rf = RandomForestClassifier(n_estimators=100)\n",
        "rf = rf.fit(X_train, y_train)\n",
        "rf.score(X_test, y_test)"
      ],
      "execution_count": 79,
      "outputs": [
        {
          "output_type": "execute_result",
          "data": {
            "text/plain": [
              "0.6834814034031019"
            ]
          },
          "metadata": {
            "tags": []
          },
          "execution_count": 79
        }
      ]
    },
    {
      "cell_type": "code",
      "metadata": {
        "id": "fj4jpyaljFyq",
        "colab": {
          "base_uri": "https://localhost:8080/"
        },
        "outputId": "ff9ff53a-88a6-4236-d48c-d09cf23ece83"
      },
      "source": [
        "sorted(zip(rf.feature_importances_, moreDB_features), reverse=True)"
      ],
      "execution_count": 80,
      "outputs": [
        {
          "output_type": "execute_result",
          "data": {
            "text/plain": [
              "[(0.28337068963354195, 'personnelD_4 DL, 1 LB, 6 DB'),\n",
              " (0.2422292663240744, 'personnelD_1 DL, 3 LB, 7 DB'),\n",
              " (0.22078013149814602, 'personnelD_2 DL, 2 LB, 7 DB'),\n",
              " (0.07961204702113264, 'personnelD_0 DL, 6 LB, 5 DB'),\n",
              " (0.07810783948021344, 'personnelD_0 DL, 5 LB, 6 DB'),\n",
              " (0.042838506626281046, 'personnelD_1 DL, 5 LB, 5 DB'),\n",
              " (0.024563851897931664, 'personnelD_1 DL, 4 LB, 6 DB'),\n",
              " (0.013014978351779678, 'personnelD_0 DL, 4 LB, 7 DB'),\n",
              " (0.008444784342860308, 'personnelD_3 DL, 2 LB, 6 DB'),\n",
              " (0.006497820116478128, 'personnelD_2 DL, 4 LB, 5 DB'),\n",
              " (0.0005400847075607911, 'personnelD_3 DL, 1 LB, 7 DB')]"
            ]
          },
          "metadata": {
            "tags": []
          },
          "execution_count": 80
        }
      ]
    },
    {
      "cell_type": "markdown",
      "metadata": {
        "id": "iBu1QXhNPUlx"
      },
      "source": [
        "**Offensive Formation agaisnt Extra DB's**"
      ]
    },
    {
      "cell_type": "markdown",
      "metadata": {
        "id": "8AFCNaCbjQvS"
      },
      "source": [
        "Logistic Regression"
      ]
    },
    {
      "cell_type": "code",
      "metadata": {
        "id": "783ljA8EPdwV"
      },
      "source": [
        "from sklearn.model_selection import train_test_split\n",
        "y = df[\"offenseFormation_I_FORM\"]\n",
        "X = moreDB_features\n",
        "\n",
        "X_train, X_test, y_train, y_test = train_test_split(X, y, random_state=1, stratify=y)"
      ],
      "execution_count": 81,
      "outputs": []
    },
    {
      "cell_type": "code",
      "metadata": {
        "id": "DyXnmnV-Pj2A"
      },
      "source": [
        "from sklearn.preprocessing import MinMaxScaler\n",
        "X_scaler = MinMaxScaler().fit(X_train)\n",
        "\n",
        "X_train_scaled = X_scaler.transform(X_train)\n",
        "X_test_scaled = X_scaler.transform(X_test)"
      ],
      "execution_count": 82,
      "outputs": []
    },
    {
      "cell_type": "code",
      "metadata": {
        "id": "NuWYjsw6PlmQ",
        "colab": {
          "base_uri": "https://localhost:8080/"
        },
        "outputId": "f4d5ade9-3fad-4040-daad-6b54319c9876"
      },
      "source": [
        "from sklearn.linear_model import LogisticRegression\n",
        "model = LogisticRegression(max_iter=1000)\n",
        "model.fit(X_train_scaled, y_train)"
      ],
      "execution_count": 83,
      "outputs": [
        {
          "output_type": "execute_result",
          "data": {
            "text/plain": [
              "LogisticRegression(C=1.0, class_weight=None, dual=False, fit_intercept=True,\n",
              "                   intercept_scaling=1, l1_ratio=None, max_iter=1000,\n",
              "                   multi_class='auto', n_jobs=None, penalty='l2',\n",
              "                   random_state=None, solver='lbfgs', tol=0.0001, verbose=0,\n",
              "                   warm_start=False)"
            ]
          },
          "metadata": {
            "tags": []
          },
          "execution_count": 83
        }
      ]
    },
    {
      "cell_type": "code",
      "metadata": {
        "id": "YDqL-hVNPnY4",
        "colab": {
          "base_uri": "https://localhost:8080/"
        },
        "outputId": "7e8409f5-2563-4c56-97f6-2f825e2b130b"
      },
      "source": [
        "print(f\"Training Data Score: {model.score(X_train_scaled, y_train)}\")\n",
        "print(f\"Testing Data Score: {model.score(X_test_scaled, y_test)}\")"
      ],
      "execution_count": 84,
      "outputs": [
        {
          "output_type": "stream",
          "text": [
            "Training Data Score: 0.9533475818072894\n",
            "Testing Data Score: 0.953349427554148\n"
          ],
          "name": "stdout"
        }
      ]
    },
    {
      "cell_type": "code",
      "metadata": {
        "id": "WllqiT5jDueR"
      },
      "source": [
        "model.save"
      ],
      "execution_count": null,
      "outputs": []
    },
    {
      "cell_type": "markdown",
      "metadata": {
        "id": "5zd6xftFjT22"
      },
      "source": [
        "Random Forest"
      ]
    },
    {
      "cell_type": "code",
      "metadata": {
        "id": "TNUSUn3-jU5N",
        "colab": {
          "base_uri": "https://localhost:8080/"
        },
        "outputId": "eccc28ea-9ce7-4807-e506-5362023c3ea2"
      },
      "source": [
        "from sklearn.ensemble import RandomForestClassifier\n",
        "rf = RandomForestClassifier(n_estimators=100)\n",
        "rf = rf.fit(X_train, y_train)\n",
        "rf.score(X_test, y_test)"
      ],
      "execution_count": 85,
      "outputs": [
        {
          "output_type": "execute_result",
          "data": {
            "text/plain": [
              "0.953349427554148"
            ]
          },
          "metadata": {
            "tags": []
          },
          "execution_count": 85
        }
      ]
    },
    {
      "cell_type": "code",
      "metadata": {
        "id": "bMMkZ_tfjWLP",
        "colab": {
          "base_uri": "https://localhost:8080/"
        },
        "outputId": "1ce12264-b880-4c6c-80d3-796262e9a037"
      },
      "source": [
        "sorted(zip(rf.feature_importances_, moreDB_features), reverse=True)"
      ],
      "execution_count": 86,
      "outputs": [
        {
          "output_type": "execute_result",
          "data": {
            "text/plain": [
              "[(0.28666204271302775, 'personnelD_3 DL, 2 LB, 6 DB'),\n",
              " (0.2821982281463631, 'personnelD_4 DL, 1 LB, 6 DB'),\n",
              " (0.21589446148231722, 'personnelD_2 DL, 4 LB, 5 DB'),\n",
              " (0.08915278009335122, 'personnelD_1 DL, 4 LB, 6 DB'),\n",
              " (0.02705106460832037, 'personnelD_1 DL, 5 LB, 5 DB'),\n",
              " (0.026540554303834465, 'personnelD_1 DL, 3 LB, 7 DB'),\n",
              " (0.02510719938473439, 'personnelD_2 DL, 2 LB, 7 DB'),\n",
              " (0.021004050114851867, 'personnelD_3 DL, 1 LB, 7 DB'),\n",
              " (0.009383768744838745, 'personnelD_0 DL, 6 LB, 5 DB'),\n",
              " (0.009363736087964071, 'personnelD_0 DL, 5 LB, 6 DB'),\n",
              " (0.0076421143203967, 'personnelD_0 DL, 4 LB, 7 DB')]"
            ]
          },
          "metadata": {
            "tags": []
          },
          "execution_count": 86
        }
      ]
    }
  ]
}